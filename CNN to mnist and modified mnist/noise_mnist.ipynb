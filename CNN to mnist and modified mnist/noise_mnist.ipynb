{
 "cells": [
  {
   "cell_type": "code",
   "execution_count": 1,
   "id": "84d2b265",
   "metadata": {},
   "outputs": [],
   "source": [
    "import tensorflow as tf\n",
    "from tensorflow.keras import datasets, layers, models\n",
    "import matplotlib.pyplot as plt\n",
    "from tensorflow.keras.utils import to_categorical\n",
    "import numpy as np"
   ]
  },
  {
   "cell_type": "code",
   "execution_count": 2,
   "id": "154f8693",
   "metadata": {},
   "outputs": [
    {
     "name": "stdout",
     "output_type": "stream",
     "text": [
      "(60000, 28, 28) (60000,)\n",
      "(10000, 28, 28)\n",
      "(10000, 28, 28) (10000,)\n"
     ]
    }
   ],
   "source": [
    "(x_train, y_train), (x_test, y_test) = datasets.fashion_mnist.load_data()\n",
    "print(x_train.shape, y_train.shape)\n",
    "print(x_test.shape)\n",
    "print(x_test.shape, y_test.shape)"
   ]
  },
  {
   "cell_type": "code",
   "execution_count": 3,
   "id": "31580476",
   "metadata": {},
   "outputs": [
    {
     "name": "stdout",
     "output_type": "stream",
     "text": [
      "9\n"
     ]
    },
    {
     "data": {
      "text/plain": [
       "array([0., 0., 0., 0., 0., 0., 0., 0., 0., 1.], dtype=float32)"
      ]
     },
     "execution_count": 3,
     "metadata": {},
     "output_type": "execute_result"
    }
   ],
   "source": [
    "y_train_one_hot = to_categorical(y_train)\n",
    "y_test_one_hot = to_categorical(y_test)\n",
    "\n",
    "print(y_train[0])\n",
    "y_train_one_hot[0]"
   ]
  },
  {
   "cell_type": "code",
   "execution_count": 4,
   "id": "514df5df",
   "metadata": {},
   "outputs": [],
   "source": [
    "classes = ['t-shirt', 'trouser', 'pullover', 'dress', 'coat', 'sandal', 'shirt', 'sneaker', 'bag', 'ankle boot' ]\n"
   ]
  },
  {
   "cell_type": "code",
   "execution_count": 5,
   "id": "f3f3d948",
   "metadata": {},
   "outputs": [
    {
     "data": {
      "text/plain": [
       "Text(0.5, 1.0, 'ankle boot')"
      ]
     },
     "execution_count": 5,
     "metadata": {},
     "output_type": "execute_result"
    },
    {
     "data": {
      "image/png": "[encoded data removed]",
      "text/plain": [
       "<Figure size 432x288 with 2 Axes>"
      ]
     },
     "metadata": {
      "needs_background": "light"
     },
     "output_type": "display_data"
    }
   ],
   "source": [
    "# plotting to test correct label\n",
    "\n",
    "fig = plt.figure()\n",
    "ax = fig.add_subplot(1, 2, 1)\n",
    "imgplot = plt.imshow(x_train[0])\n",
    "ax.set_title('{}'.format(classes[y_train[0]]))\n",
    "\n",
    "ax = fig.add_subplot(1, 2, 2)\n",
    "imgplot = plt.imshow(x_test[0])\n",
    "ax.set_title('{}'.format(classes[y_test[0]]))"
   ]
  },
  {
   "cell_type": "code",
   "execution_count": 6,
   "id": "ded81a88",
   "metadata": {},
   "outputs": [
    {
     "data": {
      "text/plain": [
       "array([[  0,   0,   0,   0,   0,   0,   0,   0,   0,   0,   0,   0,   0,\n",
       "          0,   0,   0,   0,   0,   0,   0,   0,   0,   0,   0,   0,   0,\n",
       "          0,   0],\n",
       "       [  0,   0,   0,   0,   0,   0,   0,   0,   0,   0,   0,   0,   0,\n",
       "          0,   0,   0,   0,   0,   0,   0,   0,   0,   0,   0,   0,   0,\n",
       "          0,   0],\n",
       "       [  0,   0,   0,   0,   0,   0,   0,   0,   0,   0,   0,   0,   0,\n",
       "          0,   0,   0,   0,   0,   0,   0,   0,   0,   0,   0,   0,   0,\n",
       "          0,   0],\n",
       "       [  0,   0,   0,   0,   0,   0,   0,   0,   0,   0,   0,   0,   1,\n",
       "          0,   0,  13,  73,   0,   0,   1,   4,   0,   0,   0,   0,   1,\n",
       "          1,   0],\n",
       "       [  0,   0,   0,   0,   0,   0,   0,   0,   0,   0,   0,   0,   3,\n",
       "          0,  36, 136, 127,  62,  54,   0,   0,   0,   1,   3,   4,   0,\n",
       "          0,   3],\n",
       "       [  0,   0,   0,   0,   0,   0,   0,   0,   0,   0,   0,   0,   6,\n",
       "          0, 102, 204, 176, 134, 144, 123,  23,   0,   0,   0,   0,  12,\n",
       "         10,   0],\n",
       "       [  0,   0,   0,   0,   0,   0,   0,   0,   0,   0,   0,   0,   0,\n",
       "          0, 155, 236, 207, 178, 107, 156, 161, 109,  64,  23,  77, 130,\n",
       "         72,  15],\n",
       "       [  0,   0,   0,   0,   0,   0,   0,   0,   0,   0,   0,   1,   0,\n",
       "         69, 207, 223, 218, 216, 216, 163, 127, 121, 122, 146, 141,  88,\n",
       "        172,  66],\n",
       "       [  0,   0,   0,   0,   0,   0,   0,   0,   0,   1,   1,   1,   0,\n",
       "        200, 232, 232, 233, 229, 223, 223, 215, 213, 164, 127, 123, 196,\n",
       "        229,   0],\n",
       "       [  0,   0,   0,   0,   0,   0,   0,   0,   0,   0,   0,   0,   0,\n",
       "        183, 225, 216, 223, 228, 235, 227, 224, 222, 224, 221, 223, 245,\n",
       "        173,   0],\n",
       "       [  0,   0,   0,   0,   0,   0,   0,   0,   0,   0,   0,   0,   0,\n",
       "        193, 228, 218, 213, 198, 180, 212, 210, 211, 213, 223, 220, 243,\n",
       "        202,   0],\n",
       "       [  0,   0,   0,   0,   0,   0,   0,   0,   0,   1,   3,   0,  12,\n",
       "        219, 220, 212, 218, 192, 169, 227, 208, 218, 224, 212, 226, 197,\n",
       "        209,  52],\n",
       "       [  0,   0,   0,   0,   0,   0,   0,   0,   0,   0,   6,   0,  99,\n",
       "        244, 222, 220, 218, 203, 198, 221, 215, 213, 222, 220, 245, 119,\n",
       "        167,  56],\n",
       "       [  0,   0,   0,   0,   0,   0,   0,   0,   0,   4,   0,   0,  55,\n",
       "        236, 228, 230, 228, 240, 232, 213, 218, 223, 234, 217, 217, 209,\n",
       "         92,   0],\n",
       "       [  0,   0,   1,   4,   6,   7,   2,   0,   0,   0,   0,   0, 237,\n",
       "        226, 217, 223, 222, 219, 222, 221, 216, 223, 229, 215, 218, 255,\n",
       "         77,   0],\n",
       "       [  0,   3,   0,   0,   0,   0,   0,   0,   0,  62, 145, 204, 228,\n",
       "        207, 213, 221, 218, 208, 211, 218, 224, 223, 219, 215, 224, 244,\n",
       "        159,   0],\n",
       "       [  0,   0,   0,   0,  18,  44,  82, 107, 189, 228, 220, 222, 217,\n",
       "        226, 200, 205, 211, 230, 224, 234, 176, 188, 250, 248, 233, 238,\n",
       "        215,   0],\n",
       "       [  0,  57, 187, 208, 224, 221, 224, 208, 204, 214, 208, 209, 200,\n",
       "        159, 245, 193, 206, 223, 255, 255, 221, 234, 221, 211, 220, 232,\n",
       "        246,   0],\n",
       "       [  3, 202, 228, 224, 221, 211, 211, 214, 205, 205, 205, 220, 240,\n",
       "         80, 150, 255, 229, 221, 188, 154, 191, 210, 204, 209, 222, 228,\n",
       "        225,   0],\n",
       "       [ 98, 233, 198, 210, 222, 229, 229, 234, 249, 220, 194, 215, 217,\n",
       "        241,  65,  73, 106, 117, 168, 219, 221, 215, 217, 223, 223, 224,\n",
       "        229,  29],\n",
       "       [ 75, 204, 212, 204, 193, 205, 211, 225, 216, 185, 197, 206, 198,\n",
       "        213, 240, 195, 227, 245, 239, 223, 218, 212, 209, 222, 220, 221,\n",
       "        230,  67],\n",
       "       [ 48, 203, 183, 194, 213, 197, 185, 190, 194, 192, 202, 214, 219,\n",
       "        221, 220, 236, 225, 216, 199, 206, 186, 181, 177, 172, 181, 205,\n",
       "        206, 115],\n",
       "       [  0, 122, 219, 193, 179, 171, 183, 196, 204, 210, 213, 207, 211,\n",
       "        210, 200, 196, 194, 191, 195, 191, 198, 192, 176, 156, 167, 177,\n",
       "        210,  92],\n",
       "       [  0,   0,  74, 189, 212, 191, 175, 172, 175, 181, 185, 188, 189,\n",
       "        188, 193, 198, 204, 209, 210, 210, 211, 188, 188, 194, 192, 216,\n",
       "        170,   0],\n",
       "       [  2,   0,   0,   0,  66, 200, 222, 237, 239, 242, 246, 243, 244,\n",
       "        221, 220, 193, 191, 179, 182, 182, 181, 176, 166, 168,  99,  58,\n",
       "          0,   0],\n",
       "       [  0,   0,   0,   0,   0,   0,   0,  40,  61,  44,  72,  41,  35,\n",
       "          0,   0,   0,   0,   0,   0,   0,   0,   0,   0,   0,   0,   0,\n",
       "          0,   0],\n",
       "       [  0,   0,   0,   0,   0,   0,   0,   0,   0,   0,   0,   0,   0,\n",
       "          0,   0,   0,   0,   0,   0,   0,   0,   0,   0,   0,   0,   0,\n",
       "          0,   0],\n",
       "       [  0,   0,   0,   0,   0,   0,   0,   0,   0,   0,   0,   0,   0,\n",
       "          0,   0,   0,   0,   0,   0,   0,   0,   0,   0,   0,   0,   0,\n",
       "          0,   0]], dtype=uint8)"
      ]
     },
     "execution_count": 6,
     "metadata": {},
     "output_type": "execute_result"
    }
   ],
   "source": [
    "x_train[0]"
   ]
  },
  {
   "cell_type": "code",
   "execution_count": 7,
   "id": "168057ac",
   "metadata": {},
   "outputs": [
    {
     "data": {
      "text/plain": [
       "(dtype('float64'),\n",
       " array([[0.        , 0.        , 0.        , 0.        , 0.        ,\n",
       "         0.        , 0.        , 0.        , 0.        , 0.        ,\n",
       "         0.        , 0.        , 0.        , 0.        , 0.        ,\n",
       "         0.        , 0.        , 0.        , 0.        , 0.        ,\n",
       "         0.        , 0.        , 0.        , 0.        , 0.        ,\n",
       "         0.        , 0.        , 0.        ],\n",
       "        [0.        , 0.        , 0.        , 0.        , 0.        ,\n",
       "         0.        , 0.        , 0.        , 0.        , 0.        ,\n",
       "         0.        , 0.        , 0.        , 0.        , 0.        ,\n",
       "         0.        , 0.        , 0.        , 0.        , 0.        ,\n",
       "         0.        , 0.        , 0.        , 0.        , 0.        ,\n",
       "         0.        , 0.        , 0.        ],\n",
       "        [0.        , 0.        , 0.        , 0.        , 0.        ,\n",
       "         0.        , 0.        , 0.        , 0.        , 0.        ,\n",
       "         0.        , 0.        , 0.        , 0.        , 0.        ,\n",
       "         0.        , 0.        , 0.        , 0.        , 0.        ,\n",
       "         0.        , 0.        , 0.        , 0.        , 0.        ,\n",
       "         0.        , 0.        , 0.        ],\n",
       "        [0.        , 0.        , 0.        , 0.        , 0.        ,\n",
       "         0.        , 0.        , 0.        , 0.        , 0.        ,\n",
       "         0.        , 0.        , 0.00392157, 0.        , 0.        ,\n",
       "         0.05098039, 0.28627451, 0.        , 0.        , 0.00392157,\n",
       "         0.01568627, 0.        , 0.        , 0.        , 0.        ,\n",
       "         0.00392157, 0.00392157, 0.        ],\n",
       "        [0.        , 0.        , 0.        , 0.        , 0.        ,\n",
       "         0.        , 0.        , 0.        , 0.        , 0.        ,\n",
       "         0.        , 0.        , 0.01176471, 0.        , 0.14117647,\n",
       "         0.53333333, 0.49803922, 0.24313725, 0.21176471, 0.        ,\n",
       "         0.        , 0.        , 0.00392157, 0.01176471, 0.01568627,\n",
       "         0.        , 0.        , 0.01176471],\n",
       "        [0.        , 0.        , 0.        , 0.        , 0.        ,\n",
       "         0.        , 0.        , 0.        , 0.        , 0.        ,\n",
       "         0.        , 0.        , 0.02352941, 0.        , 0.4       ,\n",
       "         0.8       , 0.69019608, 0.5254902 , 0.56470588, 0.48235294,\n",
       "         0.09019608, 0.        , 0.        , 0.        , 0.        ,\n",
       "         0.04705882, 0.03921569, 0.        ],\n",
       "        [0.        , 0.        , 0.        , 0.        , 0.        ,\n",
       "         0.        , 0.        , 0.        , 0.        , 0.        ,\n",
       "         0.        , 0.        , 0.        , 0.        , 0.60784314,\n",
       "         0.9254902 , 0.81176471, 0.69803922, 0.41960784, 0.61176471,\n",
       "         0.63137255, 0.42745098, 0.25098039, 0.09019608, 0.30196078,\n",
       "         0.50980392, 0.28235294, 0.05882353],\n",
       "        [0.        , 0.        , 0.        , 0.        , 0.        ,\n",
       "         0.        , 0.        , 0.        , 0.        , 0.        ,\n",
       "         0.        , 0.00392157, 0.        , 0.27058824, 0.81176471,\n",
       "         0.8745098 , 0.85490196, 0.84705882, 0.84705882, 0.63921569,\n",
       "         0.49803922, 0.4745098 , 0.47843137, 0.57254902, 0.55294118,\n",
       "         0.34509804, 0.6745098 , 0.25882353],\n",
       "        [0.        , 0.        , 0.        , 0.        , 0.        ,\n",
       "         0.        , 0.        , 0.        , 0.        , 0.00392157,\n",
       "         0.00392157, 0.00392157, 0.        , 0.78431373, 0.90980392,\n",
       "         0.90980392, 0.91372549, 0.89803922, 0.8745098 , 0.8745098 ,\n",
       "         0.84313725, 0.83529412, 0.64313725, 0.49803922, 0.48235294,\n",
       "         0.76862745, 0.89803922, 0.        ],\n",
       "        [0.        , 0.        , 0.        , 0.        , 0.        ,\n",
       "         0.        , 0.        , 0.        , 0.        , 0.        ,\n",
       "         0.        , 0.        , 0.        , 0.71764706, 0.88235294,\n",
       "         0.84705882, 0.8745098 , 0.89411765, 0.92156863, 0.89019608,\n",
       "         0.87843137, 0.87058824, 0.87843137, 0.86666667, 0.8745098 ,\n",
       "         0.96078431, 0.67843137, 0.        ],\n",
       "        [0.        , 0.        , 0.        , 0.        , 0.        ,\n",
       "         0.        , 0.        , 0.        , 0.        , 0.        ,\n",
       "         0.        , 0.        , 0.        , 0.75686275, 0.89411765,\n",
       "         0.85490196, 0.83529412, 0.77647059, 0.70588235, 0.83137255,\n",
       "         0.82352941, 0.82745098, 0.83529412, 0.8745098 , 0.8627451 ,\n",
       "         0.95294118, 0.79215686, 0.        ],\n",
       "        [0.        , 0.        , 0.        , 0.        , 0.        ,\n",
       "         0.        , 0.        , 0.        , 0.        , 0.00392157,\n",
       "         0.01176471, 0.        , 0.04705882, 0.85882353, 0.8627451 ,\n",
       "         0.83137255, 0.85490196, 0.75294118, 0.6627451 , 0.89019608,\n",
       "         0.81568627, 0.85490196, 0.87843137, 0.83137255, 0.88627451,\n",
       "         0.77254902, 0.81960784, 0.20392157],\n",
       "        [0.        , 0.        , 0.        , 0.        , 0.        ,\n",
       "         0.        , 0.        , 0.        , 0.        , 0.        ,\n",
       "         0.02352941, 0.        , 0.38823529, 0.95686275, 0.87058824,\n",
       "         0.8627451 , 0.85490196, 0.79607843, 0.77647059, 0.86666667,\n",
       "         0.84313725, 0.83529412, 0.87058824, 0.8627451 , 0.96078431,\n",
       "         0.46666667, 0.65490196, 0.21960784],\n",
       "        [0.        , 0.        , 0.        , 0.        , 0.        ,\n",
       "         0.        , 0.        , 0.        , 0.        , 0.01568627,\n",
       "         0.        , 0.        , 0.21568627, 0.9254902 , 0.89411765,\n",
       "         0.90196078, 0.89411765, 0.94117647, 0.90980392, 0.83529412,\n",
       "         0.85490196, 0.8745098 , 0.91764706, 0.85098039, 0.85098039,\n",
       "         0.81960784, 0.36078431, 0.        ],\n",
       "        [0.        , 0.        , 0.00392157, 0.01568627, 0.02352941,\n",
       "         0.02745098, 0.00784314, 0.        , 0.        , 0.        ,\n",
       "         0.        , 0.        , 0.92941176, 0.88627451, 0.85098039,\n",
       "         0.8745098 , 0.87058824, 0.85882353, 0.87058824, 0.86666667,\n",
       "         0.84705882, 0.8745098 , 0.89803922, 0.84313725, 0.85490196,\n",
       "         1.        , 0.30196078, 0.        ],\n",
       "        [0.        , 0.01176471, 0.        , 0.        , 0.        ,\n",
       "         0.        , 0.        , 0.        , 0.        , 0.24313725,\n",
       "         0.56862745, 0.8       , 0.89411765, 0.81176471, 0.83529412,\n",
       "         0.86666667, 0.85490196, 0.81568627, 0.82745098, 0.85490196,\n",
       "         0.87843137, 0.8745098 , 0.85882353, 0.84313725, 0.87843137,\n",
       "         0.95686275, 0.62352941, 0.        ],\n",
       "        [0.        , 0.        , 0.        , 0.        , 0.07058824,\n",
       "         0.17254902, 0.32156863, 0.41960784, 0.74117647, 0.89411765,\n",
       "         0.8627451 , 0.87058824, 0.85098039, 0.88627451, 0.78431373,\n",
       "         0.80392157, 0.82745098, 0.90196078, 0.87843137, 0.91764706,\n",
       "         0.69019608, 0.7372549 , 0.98039216, 0.97254902, 0.91372549,\n",
       "         0.93333333, 0.84313725, 0.        ],\n",
       "        [0.        , 0.22352941, 0.73333333, 0.81568627, 0.87843137,\n",
       "         0.86666667, 0.87843137, 0.81568627, 0.8       , 0.83921569,\n",
       "         0.81568627, 0.81960784, 0.78431373, 0.62352941, 0.96078431,\n",
       "         0.75686275, 0.80784314, 0.8745098 , 1.        , 1.        ,\n",
       "         0.86666667, 0.91764706, 0.86666667, 0.82745098, 0.8627451 ,\n",
       "         0.90980392, 0.96470588, 0.        ],\n",
       "        [0.01176471, 0.79215686, 0.89411765, 0.87843137, 0.86666667,\n",
       "         0.82745098, 0.82745098, 0.83921569, 0.80392157, 0.80392157,\n",
       "         0.80392157, 0.8627451 , 0.94117647, 0.31372549, 0.58823529,\n",
       "         1.        , 0.89803922, 0.86666667, 0.7372549 , 0.60392157,\n",
       "         0.74901961, 0.82352941, 0.8       , 0.81960784, 0.87058824,\n",
       "         0.89411765, 0.88235294, 0.        ],\n",
       "        [0.38431373, 0.91372549, 0.77647059, 0.82352941, 0.87058824,\n",
       "         0.89803922, 0.89803922, 0.91764706, 0.97647059, 0.8627451 ,\n",
       "         0.76078431, 0.84313725, 0.85098039, 0.94509804, 0.25490196,\n",
       "         0.28627451, 0.41568627, 0.45882353, 0.65882353, 0.85882353,\n",
       "         0.86666667, 0.84313725, 0.85098039, 0.8745098 , 0.8745098 ,\n",
       "         0.87843137, 0.89803922, 0.11372549],\n",
       "        [0.29411765, 0.8       , 0.83137255, 0.8       , 0.75686275,\n",
       "         0.80392157, 0.82745098, 0.88235294, 0.84705882, 0.7254902 ,\n",
       "         0.77254902, 0.80784314, 0.77647059, 0.83529412, 0.94117647,\n",
       "         0.76470588, 0.89019608, 0.96078431, 0.9372549 , 0.8745098 ,\n",
       "         0.85490196, 0.83137255, 0.81960784, 0.87058824, 0.8627451 ,\n",
       "         0.86666667, 0.90196078, 0.2627451 ],\n",
       "        [0.18823529, 0.79607843, 0.71764706, 0.76078431, 0.83529412,\n",
       "         0.77254902, 0.7254902 , 0.74509804, 0.76078431, 0.75294118,\n",
       "         0.79215686, 0.83921569, 0.85882353, 0.86666667, 0.8627451 ,\n",
       "         0.9254902 , 0.88235294, 0.84705882, 0.78039216, 0.80784314,\n",
       "         0.72941176, 0.70980392, 0.69411765, 0.6745098 , 0.70980392,\n",
       "         0.80392157, 0.80784314, 0.45098039],\n",
       "        [0.        , 0.47843137, 0.85882353, 0.75686275, 0.70196078,\n",
       "         0.67058824, 0.71764706, 0.76862745, 0.8       , 0.82352941,\n",
       "         0.83529412, 0.81176471, 0.82745098, 0.82352941, 0.78431373,\n",
       "         0.76862745, 0.76078431, 0.74901961, 0.76470588, 0.74901961,\n",
       "         0.77647059, 0.75294118, 0.69019608, 0.61176471, 0.65490196,\n",
       "         0.69411765, 0.82352941, 0.36078431],\n",
       "        [0.        , 0.        , 0.29019608, 0.74117647, 0.83137255,\n",
       "         0.74901961, 0.68627451, 0.6745098 , 0.68627451, 0.70980392,\n",
       "         0.7254902 , 0.7372549 , 0.74117647, 0.7372549 , 0.75686275,\n",
       "         0.77647059, 0.8       , 0.81960784, 0.82352941, 0.82352941,\n",
       "         0.82745098, 0.7372549 , 0.7372549 , 0.76078431, 0.75294118,\n",
       "         0.84705882, 0.66666667, 0.        ],\n",
       "        [0.00784314, 0.        , 0.        , 0.        , 0.25882353,\n",
       "         0.78431373, 0.87058824, 0.92941176, 0.9372549 , 0.94901961,\n",
       "         0.96470588, 0.95294118, 0.95686275, 0.86666667, 0.8627451 ,\n",
       "         0.75686275, 0.74901961, 0.70196078, 0.71372549, 0.71372549,\n",
       "         0.70980392, 0.69019608, 0.65098039, 0.65882353, 0.38823529,\n",
       "         0.22745098, 0.        , 0.        ],\n",
       "        [0.        , 0.        , 0.        , 0.        , 0.        ,\n",
       "         0.        , 0.        , 0.15686275, 0.23921569, 0.17254902,\n",
       "         0.28235294, 0.16078431, 0.1372549 , 0.        , 0.        ,\n",
       "         0.        , 0.        , 0.        , 0.        , 0.        ,\n",
       "         0.        , 0.        , 0.        , 0.        , 0.        ,\n",
       "         0.        , 0.        , 0.        ],\n",
       "        [0.        , 0.        , 0.        , 0.        , 0.        ,\n",
       "         0.        , 0.        , 0.        , 0.        , 0.        ,\n",
       "         0.        , 0.        , 0.        , 0.        , 0.        ,\n",
       "         0.        , 0.        , 0.        , 0.        , 0.        ,\n",
       "         0.        , 0.        , 0.        , 0.        , 0.        ,\n",
       "         0.        , 0.        , 0.        ],\n",
       "        [0.        , 0.        , 0.        , 0.        , 0.        ,\n",
       "         0.        , 0.        , 0.        , 0.        , 0.        ,\n",
       "         0.        , 0.        , 0.        , 0.        , 0.        ,\n",
       "         0.        , 0.        , 0.        , 0.        , 0.        ,\n",
       "         0.        , 0.        , 0.        , 0.        , 0.        ,\n",
       "         0.        , 0.        , 0.        ]]))"
      ]
     },
     "execution_count": 7,
     "metadata": {},
     "output_type": "execute_result"
    }
   ],
   "source": [
    "x_train = x_train / 255\n",
    "y_train = y_train / 255\n",
    "\n",
    "x_train.dtype, x_train[0] "
   ]
  },
  {
   "cell_type": "code",
   "execution_count": 8,
   "id": "cd4a7c60",
   "metadata": {},
   "outputs": [
    {
     "data": {
      "text/plain": [
       "(60000, 28, 28)"
      ]
     },
     "execution_count": 8,
     "metadata": {},
     "output_type": "execute_result"
    }
   ],
   "source": [
    "x_train.shape"
   ]
  },
  {
   "cell_type": "code",
   "execution_count": 9,
   "id": "98f89098",
   "metadata": {},
   "outputs": [],
   "source": [
    "# add noise\n",
    "# random noise form normal distribution with mean at 0 and std dev of 1\n",
    "noise_factor = 0.7\n",
    "x_train_noisy = x_train + noise_factor * np.random.normal(loc=0.0, scale=1.0, size=x_train.shape)\n",
    "x_test_noisy = x_test + noise_factor * np.random.normal(loc=0.0, scale=1.0, size=x_test.shape) \n",
    "\n",
    "# clipping the values less than 0 and larger than 1\n",
    "x_train_noisy = np.clip(x_train_noisy, 0., 1.)\n",
    "x_test_noisy = np.clip(x_test_noisy, 0., 1.)"
   ]
  },
  {
   "cell_type": "code",
   "execution_count": 10,
   "id": "79c46c64",
   "metadata": {},
   "outputs": [
    {
     "data": {
      "image/png": "[encoded data removed]",
      "text/plain": [
       "<Figure size 1440x144 with 9 Axes>"
      ]
     },
     "metadata": {
      "needs_background": "light"
     },
     "output_type": "display_data"
    }
   ],
   "source": [
    "plt.figure(figsize=(20, 2))\n",
    "for i in range(1,10):\n",
    "    ax = plt.subplot(1, 10, i)\n",
    "    ax.set_title('{}'.format(classes[y_test[i]]))\n",
    "    plt.imshow(x_test_noisy[i])\n",
    "plt.show()"
   ]
  },
  {
   "cell_type": "code",
   "execution_count": 11,
   "id": "9b1fa019",
   "metadata": {},
   "outputs": [],
   "source": [
    "def build_model():\n",
    "    return models.Sequential([\n",
    "        # first convolution layer\n",
    "        layers.Conv2D(16, (3,3), activation='relu', padding='same', input_shape=(28, 28, 1)),\n",
    "        layers.MaxPooling2D(2,2, padding='same'),\n",
    "        #second convolution layer\n",
    "        layers.Conv2D(32, (3,3), activation='relu', padding='same'),\n",
    "        layers.MaxPooling2D(2,2, padding='same'),\n",
    "        #thrid convolution layer\n",
    "        layers.Conv2D(64, (3,3), activation='relu', padding='same'),\n",
    "        layers.MaxPooling2D(2,2, padding='same'),\n",
    "        #fourth convolution layer\n",
    "        layers.Conv2D(64, (3,3), activation='relu', padding='same'),\n",
    "        layers.MaxPooling2D(2,2, padding='same'),\n",
    "        #flatten the results to feed into DNN\n",
    "        layers.Flatten(),\n",
    "        #512 neuorn hidden layers\n",
    "        layers.Dense(512, activation='relu'),\n",
    "        layers.Dense(10, activation=\"softmax\"),\n",
    "    ])"
   ]
  },
  {
   "cell_type": "code",
   "execution_count": 12,
   "id": "31c90e44",
   "metadata": {},
   "outputs": [
    {
     "name": "stdout",
     "output_type": "stream",
     "text": [
      "Model: \"sequential\"\n",
      "_________________________________________________________________\n",
      " Layer (type)                Output Shape              Param #   \n",
      "=================================================================\n",
      " conv2d (Conv2D)             (None, 28, 28, 16)        160       \n",
      "                                                                 \n",
      " max_pooling2d (MaxPooling2D  (None, 14, 14, 16)       0         \n",
      " )                                                               \n",
      "                                                                 \n",
      " conv2d_1 (Conv2D)           (None, 14, 14, 32)        4640      \n",
      "                                                                 \n",
      " max_pooling2d_1 (MaxPooling  (None, 7, 7, 32)         0         \n",
      " 2D)                                                             \n",
      "                                                                 \n",
      " conv2d_2 (Conv2D)           (None, 7, 7, 64)          18496     \n",
      "                                                                 \n",
      " max_pooling2d_2 (MaxPooling  (None, 4, 4, 64)         0         \n",
      " 2D)                                                             \n",
      "                                                                 \n",
      " conv2d_3 (Conv2D)           (None, 4, 4, 64)          36928     \n",
      "                                                                 \n",
      " max_pooling2d_3 (MaxPooling  (None, 2, 2, 64)         0         \n",
      " 2D)                                                             \n",
      "                                                                 \n",
      " flatten (Flatten)           (None, 256)               0         \n",
      "                                                                 \n",
      " dense (Dense)               (None, 512)               131584    \n",
      "                                                                 \n",
      " dense_1 (Dense)             (None, 10)                5130      \n",
      "                                                                 \n",
      "=================================================================\n",
      "Total params: 196,938\n",
      "Trainable params: 196,938\n",
      "Non-trainable params: 0\n",
      "_________________________________________________________________\n"
     ]
    }
   ],
   "source": [
    "model = build_model()\n",
    "\n",
    "model.summary()"
   ]
  },
  {
   "cell_type": "code",
   "execution_count": 14,
   "id": "48970925",
   "metadata": {},
   "outputs": [],
   "source": [
    "model.compile(loss='categorical_crossentropy', optimizer=tf.keras.optimizers.SGD(learning_rate=0.01, momentum=0.9), \n",
    "              metrics='accuracy')"
   ]
  },
  {
   "cell_type": "code",
   "execution_count": 14,
   "id": "0d540f82",
   "metadata": {},
   "outputs": [
    {
     "name": "stdout",
     "output_type": "stream",
     "text": [
      "Epoch 1/100\n",
      "32/32 [==============================] - 41s 71ms/step - loss: 2.2675 - accuracy: 0.1653\n",
      "Epoch 2/100\n",
      "32/32 [==============================] - 2s 70ms/step - loss: 1.9352 - accuracy: 0.4856\n",
      "Epoch 3/100\n",
      "32/32 [==============================] - 2s 72ms/step - loss: 1.7089 - accuracy: 0.4316\n",
      "Epoch 4/100\n",
      "32/32 [==============================] - 2s 73ms/step - loss: 0.8633 - accuracy: 0.6697\n",
      "Epoch 5/100\n",
      "32/32 [==============================] - 2s 71ms/step - loss: 0.6890 - accuracy: 0.7428\n",
      "Epoch 6/100\n",
      "32/32 [==============================] - 2s 70ms/step - loss: 0.6295 - accuracy: 0.7685\n",
      "Epoch 7/100\n",
      "32/32 [==============================] - 3s 83ms/step - loss: 0.5914 - accuracy: 0.7825\n",
      "Epoch 8/100\n",
      "32/32 [==============================] - 2s 71ms/step - loss: 0.5722 - accuracy: 0.7881\n",
      "Epoch 9/100\n",
      "32/32 [==============================] - 2s 71ms/step - loss: 0.5395 - accuracy: 0.8041\n",
      "Epoch 10/100\n",
      "32/32 [==============================] - 2s 71ms/step - loss: 0.5245 - accuracy: 0.8087\n",
      "Epoch 11/100\n",
      "32/32 [==============================] - 2s 71ms/step - loss: 0.5059 - accuracy: 0.8169\n",
      "Epoch 12/100\n",
      "32/32 [==============================] - 2s 74ms/step - loss: 0.4895 - accuracy: 0.8225\n",
      "Epoch 13/100\n",
      "32/32 [==============================] - 2s 71ms/step - loss: 0.4686 - accuracy: 0.8306\n",
      "Epoch 14/100\n",
      "32/32 [==============================] - 2s 70ms/step - loss: 0.4541 - accuracy: 0.8340\n",
      "Epoch 15/100\n",
      "32/32 [==============================] - 2s 70ms/step - loss: 0.4389 - accuracy: 0.8401\n",
      "Epoch 16/100\n",
      "32/32 [==============================] - 2s 70ms/step - loss: 0.4197 - accuracy: 0.8479\n",
      "Epoch 17/100\n",
      "32/32 [==============================] - 2s 69ms/step - loss: 0.4165 - accuracy: 0.8479\n",
      "Epoch 18/100\n",
      "32/32 [==============================] - 2s 69ms/step - loss: 0.4066 - accuracy: 0.8525\n",
      "Epoch 19/100\n",
      "32/32 [==============================] - 2s 75ms/step - loss: 0.3999 - accuracy: 0.8542\n",
      "Epoch 20/100\n",
      "32/32 [==============================] - 2s 73ms/step - loss: 0.3993 - accuracy: 0.8535\n",
      "Epoch 21/100\n",
      "32/32 [==============================] - 2s 71ms/step - loss: 0.3895 - accuracy: 0.8585\n",
      "Epoch 22/100\n",
      "32/32 [==============================] - 2s 70ms/step - loss: 0.3743 - accuracy: 0.8652\n",
      "Epoch 23/100\n",
      "32/32 [==============================] - 2s 73ms/step - loss: 0.3747 - accuracy: 0.8637\n",
      "Epoch 24/100\n",
      "32/32 [==============================] - 2s 70ms/step - loss: 0.3728 - accuracy: 0.8631\n",
      "Epoch 25/100\n",
      "32/32 [==============================] - 2s 70ms/step - loss: 0.3694 - accuracy: 0.8649\n",
      "Epoch 26/100\n",
      "32/32 [==============================] - 2s 70ms/step - loss: 0.3594 - accuracy: 0.8697\n",
      "Epoch 27/100\n",
      "32/32 [==============================] - 2s 71ms/step - loss: 0.3571 - accuracy: 0.8693\n",
      "Epoch 28/100\n",
      "32/32 [==============================] - 2s 70ms/step - loss: 0.3562 - accuracy: 0.8702\n",
      "Epoch 29/100\n",
      "32/32 [==============================] - 2s 70ms/step - loss: 0.3517 - accuracy: 0.8730\n",
      "Epoch 30/100\n",
      "32/32 [==============================] - 2s 71ms/step - loss: 0.3552 - accuracy: 0.8696\n",
      "Epoch 31/100\n",
      "32/32 [==============================] - 2s 70ms/step - loss: 0.3475 - accuracy: 0.8738\n",
      "Epoch 32/100\n",
      "32/32 [==============================] - 2s 70ms/step - loss: 0.3373 - accuracy: 0.8772\n",
      "Epoch 33/100\n",
      "32/32 [==============================] - 2s 70ms/step - loss: 0.3366 - accuracy: 0.8774\n",
      "Epoch 34/100\n",
      "32/32 [==============================] - 2s 70ms/step - loss: 0.3396 - accuracy: 0.8758\n",
      "Epoch 35/100\n",
      "32/32 [==============================] - 2s 70ms/step - loss: 0.3267 - accuracy: 0.8813\n",
      "Epoch 36/100\n",
      "32/32 [==============================] - 2s 71ms/step - loss: 0.3237 - accuracy: 0.8820\n",
      "Epoch 37/100\n",
      "32/32 [==============================] - 2s 72ms/step - loss: 0.3237 - accuracy: 0.8820\n",
      "Epoch 38/100\n",
      "32/32 [==============================] - 2s 74ms/step - loss: 0.3179 - accuracy: 0.8839\n",
      "Epoch 39/100\n",
      "32/32 [==============================] - 2s 70ms/step - loss: 0.3143 - accuracy: 0.8859\n",
      "Epoch 40/100\n",
      "32/32 [==============================] - 2s 74ms/step - loss: 0.3152 - accuracy: 0.8853\n",
      "Epoch 41/100\n",
      "32/32 [==============================] - 2s 72ms/step - loss: 0.3135 - accuracy: 0.8858\n",
      "Epoch 42/100\n",
      "32/32 [==============================] - 2s 71ms/step - loss: 0.3037 - accuracy: 0.8896\n",
      "Epoch 43/100\n",
      "32/32 [==============================] - 2s 72ms/step - loss: 0.3062 - accuracy: 0.8884\n",
      "Epoch 44/100\n",
      "32/32 [==============================] - 2s 72ms/step - loss: 0.3158 - accuracy: 0.8833\n",
      "Epoch 45/100\n",
      "32/32 [==============================] - 2s 71ms/step - loss: 0.2979 - accuracy: 0.8909\n",
      "Epoch 46/100\n",
      "32/32 [==============================] - 2s 71ms/step - loss: 0.2914 - accuracy: 0.8948\n",
      "Epoch 47/100\n",
      "32/32 [==============================] - 2s 71ms/step - loss: 0.2949 - accuracy: 0.8926\n",
      "Epoch 48/100\n",
      "32/32 [==============================] - 2s 71ms/step - loss: 0.2899 - accuracy: 0.8951\n",
      "Epoch 49/100\n",
      "32/32 [==============================] - 2s 71ms/step - loss: 0.2893 - accuracy: 0.8938\n",
      "Epoch 50/100\n",
      "32/32 [==============================] - 2s 71ms/step - loss: 0.2877 - accuracy: 0.8958\n",
      "Epoch 51/100\n",
      "32/32 [==============================] - 2s 71ms/step - loss: 0.2827 - accuracy: 0.8976\n",
      "Epoch 52/100\n",
      "32/32 [==============================] - 2s 71ms/step - loss: 0.2877 - accuracy: 0.8941\n",
      "Epoch 53/100\n",
      "32/32 [==============================] - 2s 73ms/step - loss: 0.2805 - accuracy: 0.8978\n",
      "Epoch 54/100\n",
      "32/32 [==============================] - 2s 71ms/step - loss: 0.2801 - accuracy: 0.8977\n",
      "Epoch 55/100\n",
      "32/32 [==============================] - 2s 72ms/step - loss: 0.2770 - accuracy: 0.8992\n",
      "Epoch 56/100\n",
      "32/32 [==============================] - 2s 71ms/step - loss: 0.2713 - accuracy: 0.9012\n",
      "Epoch 57/100\n",
      "32/32 [==============================] - 2s 71ms/step - loss: 0.2685 - accuracy: 0.9020\n",
      "Epoch 58/100\n",
      "32/32 [==============================] - 2s 71ms/step - loss: 0.2718 - accuracy: 0.9006\n",
      "Epoch 59/100\n",
      "32/32 [==============================] - 2s 70ms/step - loss: 0.2722 - accuracy: 0.9011\n",
      "Epoch 60/100\n",
      "32/32 [==============================] - 2s 71ms/step - loss: 0.2667 - accuracy: 0.9036\n",
      "Epoch 61/100\n",
      "32/32 [==============================] - 2s 71ms/step - loss: 0.2620 - accuracy: 0.9035\n",
      "Epoch 62/100\n",
      "32/32 [==============================] - 2s 71ms/step - loss: 0.2632 - accuracy: 0.9036\n",
      "Epoch 63/100\n",
      "32/32 [==============================] - 2s 71ms/step - loss: 0.2582 - accuracy: 0.9060\n",
      "Epoch 64/100\n",
      "32/32 [==============================] - 2s 72ms/step - loss: 0.2551 - accuracy: 0.9066\n",
      "Epoch 65/100\n",
      "32/32 [==============================] - 2s 72ms/step - loss: 0.2589 - accuracy: 0.9057\n",
      "Epoch 66/100\n",
      "32/32 [==============================] - 2s 72ms/step - loss: 0.2578 - accuracy: 0.9059\n",
      "Epoch 67/100\n",
      "32/32 [==============================] - 2s 73ms/step - loss: 0.2518 - accuracy: 0.9085\n",
      "Epoch 68/100\n",
      "32/32 [==============================] - 2s 77ms/step - loss: 0.2485 - accuracy: 0.9094\n",
      "Epoch 69/100\n",
      "32/32 [==============================] - 2s 73ms/step - loss: 0.2510 - accuracy: 0.9087\n",
      "Epoch 70/100\n",
      "32/32 [==============================] - 2s 71ms/step - loss: 0.2490 - accuracy: 0.9091\n",
      "Epoch 71/100\n",
      "32/32 [==============================] - 2s 70ms/step - loss: 0.2475 - accuracy: 0.9090\n",
      "Epoch 72/100\n",
      "32/32 [==============================] - 2s 70ms/step - loss: 0.2405 - accuracy: 0.9126\n",
      "Epoch 73/100\n",
      "32/32 [==============================] - 2s 71ms/step - loss: 0.2392 - accuracy: 0.9126\n",
      "Epoch 74/100\n",
      "32/32 [==============================] - 2s 70ms/step - loss: 0.2477 - accuracy: 0.9082\n",
      "Epoch 75/100\n",
      "32/32 [==============================] - 2s 70ms/step - loss: 0.2398 - accuracy: 0.9115\n",
      "Epoch 76/100\n",
      "32/32 [==============================] - 2s 70ms/step - loss: 0.2364 - accuracy: 0.9139\n",
      "Epoch 77/100\n",
      "32/32 [==============================] - 2s 72ms/step - loss: 0.2342 - accuracy: 0.9143\n",
      "Epoch 78/100\n",
      "32/32 [==============================] - 2s 70ms/step - loss: 0.2371 - accuracy: 0.9135\n",
      "Epoch 79/100\n",
      "32/32 [==============================] - 2s 75ms/step - loss: 0.2358 - accuracy: 0.9139\n",
      "Epoch 80/100\n",
      "32/32 [==============================] - 2s 71ms/step - loss: 0.2367 - accuracy: 0.9125\n",
      "Epoch 81/100\n",
      "32/32 [==============================] - 2s 72ms/step - loss: 0.2313 - accuracy: 0.9152\n",
      "Epoch 82/100\n",
      "32/32 [==============================] - 2s 71ms/step - loss: 0.2333 - accuracy: 0.9147\n",
      "Epoch 83/100\n",
      "32/32 [==============================] - 2s 70ms/step - loss: 0.2281 - accuracy: 0.9161\n",
      "Epoch 84/100\n",
      "32/32 [==============================] - 2s 70ms/step - loss: 0.2278 - accuracy: 0.9166\n",
      "Epoch 85/100\n",
      "32/32 [==============================] - 2s 71ms/step - loss: 0.2255 - accuracy: 0.9171\n",
      "Epoch 86/100\n",
      "32/32 [==============================] - 2s 72ms/step - loss: 0.2254 - accuracy: 0.9181\n",
      "Epoch 87/100\n",
      "32/32 [==============================] - 2s 72ms/step - loss: 0.2260 - accuracy: 0.9175\n",
      "Epoch 88/100\n",
      "32/32 [==============================] - 2s 70ms/step - loss: 0.2348 - accuracy: 0.9137\n",
      "Epoch 89/100\n",
      "32/32 [==============================] - 2s 70ms/step - loss: 0.2239 - accuracy: 0.9190\n",
      "Epoch 90/100\n",
      "32/32 [==============================] - 2s 74ms/step - loss: 0.2204 - accuracy: 0.9187\n",
      "Epoch 91/100\n",
      "32/32 [==============================] - 2s 73ms/step - loss: 0.2198 - accuracy: 0.9198\n",
      "Epoch 92/100\n",
      "32/32 [==============================] - 2s 70ms/step - loss: 0.2118 - accuracy: 0.9221\n",
      "Epoch 93/100\n",
      "32/32 [==============================] - 2s 70ms/step - loss: 0.2206 - accuracy: 0.9196\n",
      "Epoch 94/100\n",
      "32/32 [==============================] - 2s 70ms/step - loss: 0.2116 - accuracy: 0.9228\n",
      "Epoch 95/100\n",
      "32/32 [==============================] - 2s 73ms/step - loss: 0.2086 - accuracy: 0.9242\n",
      "Epoch 96/100\n",
      "32/32 [==============================] - 2s 70ms/step - loss: 0.2123 - accuracy: 0.9222\n",
      "Epoch 97/100\n",
      "32/32 [==============================] - 2s 71ms/step - loss: 0.2102 - accuracy: 0.9227\n",
      "Epoch 98/100\n",
      "32/32 [==============================] - 2s 70ms/step - loss: 0.2048 - accuracy: 0.9256\n",
      "Epoch 99/100\n",
      "32/32 [==============================] - 2s 70ms/step - loss: 0.2054 - accuracy: 0.9247\n",
      "Epoch 100/100\n",
      "32/32 [==============================] - 2s 70ms/step - loss: 0.2052 - accuracy: 0.9245\n"
     ]
    }
   ],
   "source": [
    "history = model.fit(x_train, y_train_one_hot, epochs=100, verbose=1, steps_per_epoch=32)"
   ]
  },
  {
   "cell_type": "code",
   "execution_count": 16,
   "id": "8a2bf183",
   "metadata": {},
   "outputs": [],
   "source": [
    "model.save(\"original_mnist.h5\")"
   ]
  },
  {
   "cell_type": "code",
   "execution_count": 21,
   "id": "c58c309c",
   "metadata": {},
   "outputs": [],
   "source": [
    "# plotting model history(accuracy and loss)\n",
    "print(history.history.keys())\n",
    "# summarize history for accuracy\n",
    "plt.plot(history.history['accuracy'])\n",
    "plt.title('model accuracy')\n",
    "plt.ylabel('accuracy')\n",
    "plt.xlabel('epoch')\n",
    "plt.legend(['train', 'test'], loc='upper left')\n",
    "plt.show()\n",
    "# summarize history for loss\n",
    "plt.plot(history.history['loss'])\n",
    "\n",
    "plt.title('model loss')\n",
    "plt.ylabel('loss')\n",
    "plt.xlabel('epoch')\n",
    "plt.legend(['train', 'test'], loc='upper left')\n",
    "plt.show()\n",
    "\n"
   ]
  },
  {
   "cell_type": "code",
   "execution_count": 19,
   "id": "06e460af",
   "metadata": {},
   "outputs": [
    {
     "ename": "NameError",
     "evalue": "name 'history' is not defined",
     "output_type": "error",
     "traceback": [
      "\u001b[1;31m---------------------------------------------------------------------------\u001b[0m",
      "\u001b[1;31mNameError\u001b[0m                                 Traceback (most recent call last)",
      "Input \u001b[1;32mIn [19]\u001b[0m, in \u001b[0;36m<cell line: 2>\u001b[1;34m()\u001b[0m\n\u001b[0;32m      1\u001b[0m \u001b[38;5;66;03m# plotting model history(accuracy and loss)\u001b[39;00m\n\u001b[1;32m----> 2\u001b[0m \u001b[38;5;28mprint\u001b[39m(\u001b[43mhistory\u001b[49m\u001b[38;5;241m.\u001b[39mhistory\u001b[38;5;241m.\u001b[39mkeys())\n\u001b[0;32m      3\u001b[0m \u001b[38;5;66;03m# summarize history for accuracy\u001b[39;00m\n\u001b[0;32m      4\u001b[0m plt\u001b[38;5;241m.\u001b[39mplot(history\u001b[38;5;241m.\u001b[39mhistory[\u001b[38;5;124m'\u001b[39m\u001b[38;5;124maccuracy\u001b[39m\u001b[38;5;124m'\u001b[39m])\n",
      "\u001b[1;31mNameError\u001b[0m: name 'history' is not defined"
     ]
    }
   ],
   "source": [
    "from keras.models import load_model\n",
    "model = load_model(\"original_mnist.h5\")\n",
    "\n"
   ]
  },
  {
   "cell_type": "code",
   "execution_count": 22,
   "id": "0cb5be15",
   "metadata": {},
   "outputs": [
    {
     "name": "stdout",
     "output_type": "stream",
     "text": [
      "79/79 [==============================] - 21s 8ms/step - loss: 45.4992 - accuracy: 0.8886\n",
      "test loss, test acc: [45.49922561645508, 0.8885999917984009]\n"
     ]
    }
   ],
   "source": [
    "results = model.evaluate(x_test, y_test_one_hot, batch_size=128)\n",
    "print(\"test loss, test acc:\", results)"
   ]
  },
  {
   "cell_type": "code",
   "execution_count": 35,
   "id": "d36baa55",
   "metadata": {},
   "outputs": [],
   "source": [
    "# testing image with random\n",
    "def test_image(model, x, y):\n",
    "    plt.figure(figsize = (1,1)) # sizing figure to be small\n",
    "    random_index = np.random.randint(0, 10001) # random number from 0 to 10000\n",
    "    one_hot_label_list = model.predict(x)[random_index]\n",
    "    label_index = tf.argmax(one_hot_label_list, axis=0) #decoding to find index\n",
    "    plt.imshow(x[random_index])\n",
    "    plt.xlabel(classes[label_index])"
   ]
  },
  {
   "cell_type": "code",
   "execution_count": 36,
   "id": "08855b3b",
   "metadata": {},
   "outputs": [
    {
     "data": {
      "image/png": "[encoded data removed]",
      "text/plain": [
       "<Figure size 72x72 with 1 Axes>"
      ]
     },
     "metadata": {
      "needs_background": "light"
     },
     "output_type": "display_data"
    }
   ],
   "source": [
    "test_image(model, x_test, y_test_one_hot)\n"
   ]
  },
  {
   "cell_type": "code",
   "execution_count": 37,
   "id": "4cccd311",
   "metadata": {},
   "outputs": [],
   "source": [
    "noisy_model = build_model()"
   ]
  },
  {
   "cell_type": "code",
   "execution_count": 38,
   "id": "72647f44",
   "metadata": {},
   "outputs": [
    {
     "name": "stdout",
     "output_type": "stream",
     "text": [
      "Epoch 1/100\n",
      "32/32 [==============================] - 6s 67ms/step - loss: 2.9844 - accuracy: 0.1950\n",
      "Epoch 2/100\n",
      "32/32 [==============================] - 2s 67ms/step - loss: 1.4595 - accuracy: 0.4608\n",
      "Epoch 3/100\n",
      "32/32 [==============================] - 2s 67ms/step - loss: 0.9611 - accuracy: 0.6325\n",
      "Epoch 4/100\n",
      "32/32 [==============================] - 2s 67ms/step - loss: 0.8704 - accuracy: 0.6666\n",
      "Epoch 5/100\n",
      "32/32 [==============================] - 2s 67ms/step - loss: 0.8321 - accuracy: 0.6832\n",
      "Epoch 6/100\n",
      "32/32 [==============================] - 2s 68ms/step - loss: 0.8166 - accuracy: 0.6867\n",
      "Epoch 7/100\n",
      "32/32 [==============================] - 2s 67ms/step - loss: 0.7895 - accuracy: 0.6999\n",
      "Epoch 8/100\n",
      "32/32 [==============================] - 2s 68ms/step - loss: 0.7714 - accuracy: 0.7067\n",
      "Epoch 9/100\n",
      "32/32 [==============================] - 2s 67ms/step - loss: 0.7590 - accuracy: 0.7096\n",
      "Epoch 10/100\n",
      "32/32 [==============================] - 2s 68ms/step - loss: 0.7588 - accuracy: 0.7095\n",
      "Epoch 11/100\n",
      "32/32 [==============================] - 2s 68ms/step - loss: 0.7396 - accuracy: 0.7172\n",
      "Epoch 12/100\n",
      "32/32 [==============================] - 2s 68ms/step - loss: 0.7282 - accuracy: 0.7216\n",
      "Epoch 13/100\n",
      "32/32 [==============================] - 2s 68ms/step - loss: 0.7174 - accuracy: 0.7252\n",
      "Epoch 14/100\n",
      "32/32 [==============================] - 2s 67ms/step - loss: 0.7119 - accuracy: 0.7280\n",
      "Epoch 15/100\n",
      "32/32 [==============================] - 2s 67ms/step - loss: 0.7072 - accuracy: 0.7286\n",
      "Epoch 16/100\n",
      "32/32 [==============================] - 2s 68ms/step - loss: 0.7016 - accuracy: 0.7319\n",
      "Epoch 17/100\n",
      "32/32 [==============================] - 2s 67ms/step - loss: 0.6964 - accuracy: 0.7334\n",
      "Epoch 18/100\n",
      "32/32 [==============================] - 2s 67ms/step - loss: 0.6888 - accuracy: 0.7342\n",
      "Epoch 19/100\n",
      "32/32 [==============================] - 2s 67ms/step - loss: 0.6842 - accuracy: 0.7377\n",
      "Epoch 20/100\n",
      "32/32 [==============================] - 2s 67ms/step - loss: 0.6775 - accuracy: 0.7396\n",
      "Epoch 21/100\n",
      "32/32 [==============================] - 2s 67ms/step - loss: 0.6713 - accuracy: 0.7432\n",
      "Epoch 22/100\n",
      "32/32 [==============================] - 2s 67ms/step - loss: 0.6681 - accuracy: 0.7427\n",
      "Epoch 23/100\n",
      "32/32 [==============================] - 2s 67ms/step - loss: 0.6642 - accuracy: 0.7458\n",
      "Epoch 24/100\n",
      "32/32 [==============================] - 2s 67ms/step - loss: 0.6626 - accuracy: 0.7465\n",
      "Epoch 25/100\n",
      "32/32 [==============================] - 2s 67ms/step - loss: 0.6589 - accuracy: 0.7471\n",
      "Epoch 26/100\n",
      "32/32 [==============================] - 2s 67ms/step - loss: 0.6514 - accuracy: 0.7506\n",
      "Epoch 27/100\n",
      "32/32 [==============================] - 2s 67ms/step - loss: 0.6496 - accuracy: 0.7504\n",
      "Epoch 28/100\n",
      "32/32 [==============================] - 2s 67ms/step - loss: 0.6516 - accuracy: 0.7496\n",
      "Epoch 29/100\n",
      "32/32 [==============================] - 2s 67ms/step - loss: 0.6422 - accuracy: 0.7551\n",
      "Epoch 30/100\n",
      "32/32 [==============================] - 2s 67ms/step - loss: 0.6425 - accuracy: 0.7537\n",
      "Epoch 31/100\n",
      "32/32 [==============================] - 2s 67ms/step - loss: 0.6390 - accuracy: 0.7557\n",
      "Epoch 32/100\n",
      "32/32 [==============================] - 2s 67ms/step - loss: 0.6361 - accuracy: 0.7563\n",
      "Epoch 33/100\n",
      "32/32 [==============================] - 2s 67ms/step - loss: 0.6351 - accuracy: 0.7550\n",
      "Epoch 34/100\n",
      "32/32 [==============================] - 2s 67ms/step - loss: 0.6282 - accuracy: 0.7600\n",
      "Epoch 35/100\n",
      "32/32 [==============================] - 2s 67ms/step - loss: 0.6257 - accuracy: 0.7618\n",
      "Epoch 36/100\n",
      "32/32 [==============================] - 2s 67ms/step - loss: 0.6264 - accuracy: 0.7612\n",
      "Epoch 37/100\n",
      "32/32 [==============================] - 2s 67ms/step - loss: 0.6238 - accuracy: 0.7623\n",
      "Epoch 38/100\n",
      "32/32 [==============================] - 2s 67ms/step - loss: 0.6202 - accuracy: 0.7632\n",
      "Epoch 39/100\n",
      "32/32 [==============================] - 2s 67ms/step - loss: 0.6186 - accuracy: 0.7645\n",
      "Epoch 40/100\n",
      "32/32 [==============================] - 2s 67ms/step - loss: 0.6190 - accuracy: 0.7629\n",
      "Epoch 41/100\n",
      "32/32 [==============================] - 2s 67ms/step - loss: 0.6136 - accuracy: 0.7665\n",
      "Epoch 42/100\n",
      "32/32 [==============================] - 2s 67ms/step - loss: 0.6145 - accuracy: 0.7663\n",
      "Epoch 43/100\n",
      "32/32 [==============================] - 2s 67ms/step - loss: 0.6098 - accuracy: 0.7673\n",
      "Epoch 44/100\n",
      "32/32 [==============================] - 2s 67ms/step - loss: 0.6099 - accuracy: 0.7667\n",
      "Epoch 45/100\n",
      "32/32 [==============================] - 2s 67ms/step - loss: 0.6055 - accuracy: 0.7693\n",
      "Epoch 46/100\n",
      "32/32 [==============================] - 2s 68ms/step - loss: 0.6053 - accuracy: 0.7691\n",
      "Epoch 47/100\n",
      "32/32 [==============================] - 2s 67ms/step - loss: 0.6030 - accuracy: 0.7697\n",
      "Epoch 48/100\n",
      "32/32 [==============================] - 2s 67ms/step - loss: 0.6080 - accuracy: 0.7683\n",
      "Epoch 49/100\n",
      "32/32 [==============================] - 2s 68ms/step - loss: 0.6074 - accuracy: 0.7668\n",
      "Epoch 50/100\n",
      "32/32 [==============================] - 2s 68ms/step - loss: 0.5992 - accuracy: 0.7717\n",
      "Epoch 51/100\n",
      "32/32 [==============================] - 2s 67ms/step - loss: 0.5980 - accuracy: 0.7713\n",
      "Epoch 52/100\n",
      "32/32 [==============================] - 2s 68ms/step - loss: 0.5985 - accuracy: 0.7706\n",
      "Epoch 53/100\n",
      "32/32 [==============================] - 2s 67ms/step - loss: 0.5944 - accuracy: 0.7727\n",
      "Epoch 54/100\n",
      "32/32 [==============================] - 2s 67ms/step - loss: 0.5934 - accuracy: 0.7740\n",
      "Epoch 55/100\n",
      "32/32 [==============================] - 2s 69ms/step - loss: 0.5909 - accuracy: 0.7744\n",
      "Epoch 56/100\n",
      "32/32 [==============================] - 2s 69ms/step - loss: 0.5933 - accuracy: 0.7739\n",
      "Epoch 57/100\n",
      "32/32 [==============================] - 2s 69ms/step - loss: 0.5856 - accuracy: 0.7765\n",
      "Epoch 58/100\n",
      "32/32 [==============================] - 2s 68ms/step - loss: 0.5894 - accuracy: 0.7746\n",
      "Epoch 59/100\n",
      "32/32 [==============================] - 2s 68ms/step - loss: 0.5816 - accuracy: 0.7777\n",
      "Epoch 60/100\n",
      "32/32 [==============================] - 2s 74ms/step - loss: 0.5834 - accuracy: 0.7768\n",
      "Epoch 61/100\n",
      "32/32 [==============================] - 2s 68ms/step - loss: 0.5845 - accuracy: 0.7765\n",
      "Epoch 62/100\n",
      "32/32 [==============================] - 2s 67ms/step - loss: 0.5804 - accuracy: 0.7778\n",
      "Epoch 63/100\n",
      "32/32 [==============================] - 2s 70ms/step - loss: 0.5774 - accuracy: 0.7796\n",
      "Epoch 64/100\n",
      "32/32 [==============================] - 2s 73ms/step - loss: 0.5757 - accuracy: 0.7806\n",
      "Epoch 65/100\n",
      "32/32 [==============================] - 2s 68ms/step - loss: 0.5775 - accuracy: 0.7793\n",
      "Epoch 66/100\n",
      "32/32 [==============================] - 2s 68ms/step - loss: 0.5766 - accuracy: 0.7797\n",
      "Epoch 67/100\n",
      "32/32 [==============================] - 2s 67ms/step - loss: 0.5747 - accuracy: 0.7803\n",
      "Epoch 68/100\n",
      "32/32 [==============================] - 2s 69ms/step - loss: 0.5705 - accuracy: 0.7820\n",
      "Epoch 69/100\n",
      "32/32 [==============================] - 2s 67ms/step - loss: 0.5717 - accuracy: 0.7807\n",
      "Epoch 70/100\n",
      "32/32 [==============================] - 2s 67ms/step - loss: 0.5666 - accuracy: 0.7836\n",
      "Epoch 71/100\n",
      "32/32 [==============================] - 2s 69ms/step - loss: 0.5686 - accuracy: 0.7821\n",
      "Epoch 72/100\n",
      "32/32 [==============================] - 2s 68ms/step - loss: 0.5654 - accuracy: 0.7836\n",
      "Epoch 73/100\n",
      "32/32 [==============================] - 2s 66ms/step - loss: 0.5686 - accuracy: 0.7808\n",
      "Epoch 74/100\n",
      "32/32 [==============================] - 2s 68ms/step - loss: 0.5731 - accuracy: 0.7794\n",
      "Epoch 75/100\n",
      "32/32 [==============================] - 2s 68ms/step - loss: 0.5664 - accuracy: 0.7831\n",
      "Epoch 76/100\n",
      "32/32 [==============================] - 2s 66ms/step - loss: 0.5642 - accuracy: 0.7837\n",
      "Epoch 77/100\n",
      "32/32 [==============================] - 2s 68ms/step - loss: 0.5643 - accuracy: 0.7840\n",
      "Epoch 78/100\n",
      "32/32 [==============================] - 2s 66ms/step - loss: 0.5572 - accuracy: 0.7869\n",
      "Epoch 79/100\n",
      "32/32 [==============================] - 2s 68ms/step - loss: 0.5584 - accuracy: 0.7868\n",
      "Epoch 80/100\n",
      "32/32 [==============================] - 2s 67ms/step - loss: 0.5539 - accuracy: 0.7886\n",
      "Epoch 81/100\n",
      "32/32 [==============================] - 2s 66ms/step - loss: 0.5577 - accuracy: 0.7862\n",
      "Epoch 82/100\n"
     ]
    },
    {
     "name": "stdout",
     "output_type": "stream",
     "text": [
      "32/32 [==============================] - 2s 68ms/step - loss: 0.5548 - accuracy: 0.7879\n",
      "Epoch 83/100\n",
      "32/32 [==============================] - 2s 68ms/step - loss: 0.5513 - accuracy: 0.7892\n",
      "Epoch 84/100\n",
      "32/32 [==============================] - 2s 68ms/step - loss: 0.5512 - accuracy: 0.7900\n",
      "Epoch 85/100\n",
      "32/32 [==============================] - 2s 66ms/step - loss: 0.5501 - accuracy: 0.7904\n",
      "Epoch 86/100\n",
      "32/32 [==============================] - 2s 67ms/step - loss: 0.5503 - accuracy: 0.7895\n",
      "Epoch 87/100\n",
      "32/32 [==============================] - 2s 69ms/step - loss: 0.5478 - accuracy: 0.7904\n",
      "Epoch 88/100\n",
      "32/32 [==============================] - 2s 67ms/step - loss: 0.5462 - accuracy: 0.7907\n",
      "Epoch 89/100\n",
      "32/32 [==============================] - 2s 66ms/step - loss: 0.5486 - accuracy: 0.7898\n",
      "Epoch 90/100\n",
      "32/32 [==============================] - 2s 67ms/step - loss: 0.5527 - accuracy: 0.7883\n",
      "Epoch 91/100\n",
      "32/32 [==============================] - 2s 69ms/step - loss: 0.5454 - accuracy: 0.7916\n",
      "Epoch 92/100\n",
      "32/32 [==============================] - 2s 68ms/step - loss: 0.5458 - accuracy: 0.7904\n",
      "Epoch 93/100\n",
      "32/32 [==============================] - 2s 69ms/step - loss: 0.5428 - accuracy: 0.7929\n",
      "Epoch 94/100\n",
      "32/32 [==============================] - 2s 68ms/step - loss: 0.5446 - accuracy: 0.7911\n",
      "Epoch 95/100\n",
      "32/32 [==============================] - 2s 69ms/step - loss: 0.5409 - accuracy: 0.7912\n",
      "Epoch 96/100\n",
      "32/32 [==============================] - 2s 68ms/step - loss: 0.5408 - accuracy: 0.7928\n",
      "Epoch 97/100\n",
      "32/32 [==============================] - 2s 68ms/step - loss: 0.5383 - accuracy: 0.7940\n",
      "Epoch 98/100\n",
      "32/32 [==============================] - 2s 68ms/step - loss: 0.5412 - accuracy: 0.7917\n",
      "Epoch 99/100\n",
      "32/32 [==============================] - 2s 67ms/step - loss: 0.5356 - accuracy: 0.7944\n",
      "Epoch 100/100\n",
      "32/32 [==============================] - 2s 67ms/step - loss: 0.5310 - accuracy: 0.7963\n"
     ]
    }
   ],
   "source": [
    "noisy_model.compile(loss='categorical_crossentropy', optimizer=tf.keras.optimizers.SGD(learning_rate=0.01, momentum=0.9), \n",
    "              metrics='accuracy')\n",
    "noisy_model_history = model.fit(x_train_noisy, y_train_one_hot, epochs=100, verbose=1, steps_per_epoch=32)"
   ]
  },
  {
   "cell_type": "code",
   "execution_count": 22,
   "id": "22de6522",
   "metadata": {},
   "outputs": [
    {
     "data": {
      "image/png": "[encoded data removed]",
      "text/plain": [
       "<Figure size 432x288 with 1 Axes>"
      ]
     },
     "metadata": {
      "needs_background": "light"
     },
     "output_type": "display_data"
    },
    {
     "data": {
      "image/png": "[encoded data removed]",
      "text/plain": [
       "<Figure size 432x288 with 1 Axes>"
      ]
     },
     "metadata": {
      "needs_background": "light"
     },
     "output_type": "display_data"
    }
   ],
   "source": [
    "# plotting noisy model history(accuracy and loss)\n",
    "# summarize noisy model history for accuracy\n",
    "plt.plot(noisy_model_history.history['accuracy'])\n",
    "plt.title('Noisy model accuracy')\n",
    "plt.ylabel('accuracy')\n",
    "plt.xlabel('epoch')\n",
    "plt.legend(['train', 'test'], loc='upper left')\n",
    "plt.show()\n",
    "\n",
    "# summarize nosiy model history for loss\n",
    "plt.plot(noisy_model_history.history['loss'])\n",
    "plt.title('Noisy model loss')\n",
    "plt.ylabel('loss')\n",
    "plt.xlabel('epoch')\n",
    "plt.legend(['train', 'test'], loc='upper left')\n",
    "plt.show()\n",
    "\n"
   ]
  },
  {
   "cell_type": "code",
   "execution_count": 39,
   "id": "1993722a",
   "metadata": {},
   "outputs": [],
   "source": [
    "noisy_model.save(\"noisy_model.h5\")\n",
    "noisy_model = load_model(\"noisy_model.h5\")"
   ]
  },
  {
   "cell_type": "code",
   "execution_count": 38,
   "id": "477adb62",
   "metadata": {},
   "outputs": [
    {
     "name": "stdout",
     "output_type": "stream",
     "text": [
      "79/79 [==============================] - 1s 7ms/step - loss: 2.3023 - accuracy: 0.1111\n",
      "noisy model test loss, test acc: [2.302342653274536, 0.11110000312328339]\n"
     ]
    }
   ],
   "source": [
    "noisy_model_results = noisy_model.evaluate(x_test_noisy, y_test_one_hot, batch_size=128)\n",
    "print(\"noisy model test loss, test acc:\", noisy_model_results)"
   ]
  },
  {
   "cell_type": "code",
   "execution_count": 36,
   "id": "c6e0e3e2",
   "metadata": {},
   "outputs": [
    {
     "data": {
      "text/plain": [
       "[Text(0.5, 0, 'epoch'), Text(0, 0.5, 'loss')]"
      ]
     },
     "execution_count": 36,
     "metadata": {},
     "output_type": "execute_result"
    },
    {
     "data": {
      "image/png": "[encoded data removed]",
      "text/plain": [
       "<Figure size 720x720 with 4 Axes>"
      ]
     },
     "metadata": {
      "needs_background": "light"
     },
     "output_type": "display_data"
    }
   ],
   "source": [
    "## compairing plots between two models\n",
    "\n",
    "fig, axs = plt.subplots(2, 2)\n",
    "fig.set_figheight(10)\n",
    "fig.set_figwidth(10)\n",
    "axs[0, 0].plot(history.history['accuracy'], 'tab:orange')\n",
    "axs[0, 0].set_title('Accuracy of normal model')\n",
    "axs[0, 0].set(xlabel='epoch', ylabel=\"accuracy\")\n",
    "\n",
    "axs[0, 1].plot(noisy_model_history.history['accuracy'], 'tab:orange')\n",
    "axs[0, 1].set_title('Accuracy of nosiy model')\n",
    "axs[0, 1].set(xlabel='epoch', ylabel=\"accuracy\")\n",
    "\n",
    "axs[1, 0].plot(history.history['loss'], 'tab:green')\n",
    "axs[1, 0].set_title('Loss of normal model')\n",
    "axs[1, 0].set(xlabel='epoch', ylabel=\"loss\")\n",
    "\n",
    "axs[1, 1].plot(noisy_model_history.history['loss'], 'tab:green')\n",
    "axs[1, 1].set_title('Loss of noisy model')\n",
    "axs[1, 1].set(xlabel='epoch', ylabel=\"loss\")\n"
   ]
  },
  {
   "cell_type": "code",
   "execution_count": 42,
   "id": "883989f9",
   "metadata": {},
   "outputs": [
    {
     "name": "stdout",
     "output_type": "stream",
     "text": [
      "tf.Tensor(8, shape=(), dtype=int64)\n"
     ]
    },
    {
     "data": {
      "image/png": "[encoded data removed]",
      "text/plain": [
       "<Figure size 72x72 with 1 Axes>"
      ]
     },
     "metadata": {
      "needs_background": "light"
     },
     "output_type": "display_data"
    }
   ],
   "source": [
    "test_image(noisy_model, x_test_noisy, y_test_one_hot)"
   ]
  },
  {
   "cell_type": "code",
   "execution_count": null,
   "id": "2a5ad030",
   "metadata": {},
   "outputs": [],
   "source": []
  }
 ],
 "metadata": {
  "kernelspec": {
   "display_name": "Python 3 (ipykernel)",
   "language": "python",
   "name": "python3"
  },
  "language_info": {
   "codemirror_mode": {
    "name": "ipython",
    "version": 3
   },
   "file_extension": ".py",
   "mimetype": "text/x-python",
   "name": "python",
   "nbconvert_exporter": "python",
   "pygments_lexer": "ipython3",
   "version": "3.8.6"
  }
 },
 "nbformat": 4,
 "nbformat_minor": 5
}
