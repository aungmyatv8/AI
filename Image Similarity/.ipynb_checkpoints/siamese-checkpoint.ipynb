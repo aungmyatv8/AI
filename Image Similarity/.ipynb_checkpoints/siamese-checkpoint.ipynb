{
 "cells": [
  {
   "cell_type": "code",
   "execution_count": 1,
   "id": "9ee856ce",
   "metadata": {},
   "outputs": [],
   "source": [
    "import tensorflow as tf\n",
    "from tensorflow.keras.models import Model, load_model\n",
    "from tensorflow.keras.layers import Input, Flatten, Dense, Dropout, Lambda\n",
    "from tensorflow.keras.optimizers import RMSprop\n",
    "from tensorflow.keras.datasets import mnist\n",
    "from tensorflow.keras import backend as K\n",
    "from tensorflow_addons.losses import contrastive_loss\n",
    "import numpy as np\n",
    "import matplotlib.pyplot as plt\n",
    "import random\n",
    " "
   ]
  },
  {
   "cell_type": "code",
   "execution_count": 5,
   "id": "17e2eb4d",
   "metadata": {},
   "outputs": [],
   "source": [
    "# load the dataset\n",
    "(train_images, train_labels), (test_images, test_labels) = mnist.load_data()\n",
    "\n",
    "# prepare train and test sets\n",
    "train_images = train_images.astype('float32')\n",
    "test_images = test_images.astype('float32')\n",
    "\n",
    "# normalize values\n",
    "train_images = train_images / 255.0\n",
    "test_images = test_images / 255.0\n",
    "\n"
   ]
  },
  {
   "cell_type": "code",
   "execution_count": 9,
   "id": "83319bbd",
   "metadata": {},
   "outputs": [],
   "source": [
    "def create_index_label(labels, classes=10):\n",
    "    index_list = []\n",
    "    for i in range(0, classes):\n",
    "        idxes = np.where(labels == i)[0] # build a list of indexes for each class label\n",
    "        index_list.append(idxes)\n",
    "#         print(\"{} : {}\".format(i, len(idxes)))\n",
    "    return index_list\n",
    "\n",
    "#create_index_label(train_labels)"
   ]
  },
  {
   "cell_type": "code",
   "execution_count": 10,
   "id": "a4ed94dd",
   "metadata": {},
   "outputs": [],
   "source": [
    "#     digit_indices = [np.where(labels == i)[0] for i in range(10)]    \n",
    "    \n",
    "def create_pairs(x, digit_indices):\n",
    "    '''Positive and negative pair creation.\n",
    "    Alternates between positive and negative pairs.\n",
    "    '''\n",
    "    pairs = []\n",
    "    labels = []\n",
    "    n = min([len(digit_indices[d]) for d in range(10)]) - 1 # getting the minium number from index list\n",
    "    \n",
    "    for d in range(10):\n",
    "        for i in range(n):\n",
    "            z1, z2 = digit_indices[d][i], digit_indices[d][i + 1] # same pair\n",
    "            pairs += [[x[z1], x[z2]]]\n",
    "            inc = random.randrange(1, 10)\n",
    "            dn = (d + inc) % 10\n",
    "            z1, z2 = digit_indices[d][i], digit_indices[dn][i] # random pair\n",
    "            pairs += [[x[z1], x[z2]]]\n",
    "            labels += [1, 0] # every random pair follow after the same pairs\n",
    "    return np.array(pairs), np.array(labels)\n",
    "\n",
    "def create_pairs_on_set(images, labels):   \n",
    "    digit_indices = create_index_label(labels)\n",
    "    pairs, y = create_pairs(images, digit_indices)\n",
    "    y = y.astype('float32')\n",
    "    return pairs, y\n",
    "\n",
    "def show_image(image):\n",
    "    plt.figure()\n",
    "    plt.imshow(image, cmap=\"gray\")\n",
    "    plt.grid(False)\n",
    "    plt.show()"
   ]
  },
  {
   "cell_type": "code",
   "execution_count": 11,
   "id": "fbedae79",
   "metadata": {},
   "outputs": [
    {
     "name": "stdout",
     "output_type": "stream",
     "text": [
      "(108400, 2, 28, 28)\n",
      "1.0\n"
     ]
    }
   ],
   "source": [
    "# create pairs on train and test sets\n",
    "tr_pairs, tr_y = create_pairs_on_set(train_images, train_labels)\n",
    "ts_pairs, ts_y = create_pairs_on_set(test_images, test_labels)\n",
    "\n",
    "print(tr_pairs.shape)\n",
    "print(tr_y[2])"
   ]
  },
  {
   "cell_type": "code",
   "execution_count": 15,
   "id": "5b3c0a76",
   "metadata": {},
   "outputs": [
    {
     "data": {
      "image/png": "[encoded data removed]",
      "text/plain": [
       "<Figure size 432x288 with 1 Axes>"
      ]
     },
     "metadata": {
      "needs_background": "light"
     },
     "output_type": "display_data"
    },
    {
     "data": {
      "image/png": "[encoded data removed]",
      "text/plain": [
       "<Figure size 432x288 with 1 Axes>"
      ]
     },
     "metadata": {
      "needs_background": "light"
     },
     "output_type": "display_data"
    },
    {
     "name": "stdout",
     "output_type": "stream",
     "text": [
      "Similarity is False\n"
     ]
    }
   ],
   "source": [
    "# array index\n",
    "pair_index = 3\n",
    "\n",
    "show_image(tr_pairs[pair_index][0])\n",
    "show_image(tr_pairs[pair_index][1])\n",
    "print(\"Similarity is {}\".format(tr_y[this_pair] == 1.0) )"
   ]
  },
  {
   "cell_type": "code",
   "execution_count": 17,
   "id": "79870c91",
   "metadata": {},
   "outputs": [],
   "source": [
    "def base_model():\n",
    "    input = Input(shape=(28,28,), name=\"base_input\")\n",
    "    x = Flatten(name=\"flatten_input\")(input)\n",
    "    x = Dense(128, activation='relu', name=\"first_base_dense\")(x)\n",
    "    x = Dropout(0.1, name=\"first_dropout\")(x)\n",
    "    x = Dense(128, activation='relu', name=\"second_base_dense\")(x)\n",
    "    x = Dropout(0.1, name=\"second_dropout\")(x)\n",
    "    x = Dense(128, activation='relu', name=\"third_base_dense\")(x)\n",
    "\n",
    "    return Model(inputs=input, outputs=x)\n",
    "\n",
    "\n",
    "def euclidean_distance(vects):\n",
    "    x, y = vects\n",
    "    sum_square = K.sum(K.square(x - y), axis=1, keepdims=True)\n",
    "    return K.sqrt(K.maximum(sum_square, K.epsilon()))\n",
    "\n",
    "\n",
    "def eucl_dist_output_shape(shapes):\n",
    "    shape1, shape2 = shapes\n",
    "    return (shape1[0], 1)"
   ]
  },
  {
   "cell_type": "code",
   "execution_count": 18,
   "id": "7b73f107",
   "metadata": {},
   "outputs": [],
   "source": [
    "base_network = base_model()"
   ]
  },
  {
   "cell_type": "code",
   "execution_count": 19,
   "id": "74695b80",
   "metadata": {},
   "outputs": [],
   "source": [
    "# create the left input and point to the base network\n",
    "input_a = Input(shape=(28,28,), name=\"left image\")\n",
    "vect_output_a = base_network(input_a)\n",
    "\n",
    "# create the right input and point to the base network\n",
    "input_b = Input(shape=(28,28,), name=\"right image\")\n",
    "vect_output_b = base_network(input_b)\n",
    "\n",
    "# measure the similarity of the two vector outputs\n",
    "output = Lambda(euclidean_distance, name=\"output_layer\", output_shape=eucl_dist_output_shape)([vect_output_a, vect_output_b])\n",
    "\n",
    "\n",
    "# specify the inputs and output of the model\n",
    "model = Model([input_a, input_b], output)\n",
    "\n"
   ]
  },
  {
   "cell_type": "code",
   "execution_count": 32,
   "id": "92fad32b",
   "metadata": {},
   "outputs": [
    {
     "name": "stdout",
     "output_type": "stream",
     "text": [
      "Epoch 1/20\n",
      "847/847 [==============================] - 6s 6ms/step - loss: 0.0107 - val_loss: 0.0309\n",
      "Epoch 2/20\n",
      "847/847 [==============================] - 5s 6ms/step - loss: 0.0095 - val_loss: 0.0298\n",
      "Epoch 3/20\n",
      "847/847 [==============================] - 5s 6ms/step - loss: 0.0094 - val_loss: 0.0308\n",
      "Epoch 4/20\n",
      "847/847 [==============================] - 5s 6ms/step - loss: 0.0094 - val_loss: 0.0292\n",
      "Epoch 5/20\n",
      "847/847 [==============================] - 5s 6ms/step - loss: 0.0095 - val_loss: 0.0301\n",
      "Epoch 6/20\n",
      "847/847 [==============================] - 5s 6ms/step - loss: 0.0094 - val_loss: 0.0315\n",
      "Epoch 7/20\n",
      "847/847 [==============================] - 5s 6ms/step - loss: 0.0089 - val_loss: 0.0304\n",
      "Epoch 8/20\n",
      "847/847 [==============================] - 5s 6ms/step - loss: 0.0091 - val_loss: 0.0311\n",
      "Epoch 9/20\n",
      "847/847 [==============================] - 5s 6ms/step - loss: 0.0090 - val_loss: 0.0315\n",
      "Epoch 10/20\n",
      "847/847 [==============================] - 5s 6ms/step - loss: 0.0090 - val_loss: 0.0315\n",
      "Epoch 11/20\n",
      "847/847 [==============================] - 5s 6ms/step - loss: 0.0090 - val_loss: 0.0302\n",
      "Epoch 12/20\n",
      "847/847 [==============================] - 5s 6ms/step - loss: 0.0092 - val_loss: 0.0316\n",
      "Epoch 13/20\n",
      "847/847 [==============================] - 5s 6ms/step - loss: 0.0092 - val_loss: 0.0328\n",
      "Epoch 14/20\n",
      "847/847 [==============================] - 5s 6ms/step - loss: 0.0091 - val_loss: 0.0307\n",
      "Epoch 15/20\n",
      "847/847 [==============================] - 5s 6ms/step - loss: 0.0091 - val_loss: 0.0316\n",
      "Epoch 16/20\n",
      "847/847 [==============================] - 5s 6ms/step - loss: 0.0094 - val_loss: 0.0316\n",
      "Epoch 17/20\n",
      "847/847 [==============================] - 5s 6ms/step - loss: 0.0091 - val_loss: 0.0319\n",
      "Epoch 18/20\n",
      "847/847 [==============================] - 5s 6ms/step - loss: 0.0093 - val_loss: 0.0320\n",
      "Epoch 19/20\n",
      "847/847 [==============================] - 5s 6ms/step - loss: 0.0091 - val_loss: 0.0320\n",
      "Epoch 20/20\n",
      "847/847 [==============================] - 5s 6ms/step - loss: 0.0093 - val_loss: 0.0329\n"
     ]
    }
   ],
   "source": [
    "model.compile(loss=contrastive_loss, optimizer=RMSprop())\n",
    "history = model.fit([tr_pairs[:,0], tr_pairs[:,1]], tr_y, epochs=20, batch_size=128, validation_data=([ts_pairs[:,0], ts_pairs[:,1]], ts_y))"
   ]
  },
  {
   "cell_type": "code",
   "execution_count": 33,
   "id": "fc3f1ae5",
   "metadata": {},
   "outputs": [],
   "source": [
    "def compute_accuracy(y_true, y_pred):\n",
    "    '''Compute classification accuracy with a fixed threshold on distances.\n",
    "    '''\n",
    "    pred = y_pred.ravel() > 0.5\n",
    "#     print(\"pred\", pred)\n",
    "    return np.mean(pred == y_true)"
   ]
  },
  {
   "cell_type": "code",
   "execution_count": 34,
   "id": "40be0968",
   "metadata": {},
   "outputs": [
    {
     "name": "stdout",
     "output_type": "stream",
     "text": [
      "557/557 [==============================] - 1s 2ms/step - loss: 0.0329\n",
      "y_pred_train (108400, 1) (108400,)\n",
      "Loss = 0.032915692776441574, Train Accuracy = 0.003404059040590406 Test Accuracy = 0.03625140291806959\n"
     ]
    }
   ],
   "source": [
    "loss = model.evaluate(x=[ts_pairs[:,0],ts_pairs[:,1]], y=ts_y)\n",
    "\n",
    "# y_pred_train = model.predict([tr_pairs[:,0], tr_pairs[:,1]])\n",
    "# print(\"y_pred_train\", y_pred_train.shape, tr_y.shape)\n",
    "# train_accuracy = compute_accuracy(tr_y, y_pred_train)\n",
    "\n",
    "# y_pred_test = model.predict([ts_pairs[:,0], ts_pairs[:,1]])\n",
    "# test_accuracy = compute_accuracy(ts_y, y_pred_test)\n",
    "\n",
    "# print(\"Loss = {}, Train Accuracy = {} Test Accuracy = {}\".format(loss, train_accuracy, test_accuracy))"
   ]
  },
  {
   "cell_type": "code",
   "execution_count": 21,
   "id": "3766c0d8",
   "metadata": {},
   "outputs": [
    {
     "data": {
      "image/png": "[encoded data removed]",
      "text/plain": [
       "<Figure size 432x288 with 1 Axes>"
      ]
     },
     "metadata": {
      "needs_background": "light"
     },
     "output_type": "display_data"
    }
   ],
   "source": [
    "def plot_metrics(metric_name, title, ylim=5):\n",
    "    plt.title(title)\n",
    "    plt.ylim(0,ylim)\n",
    "    plt.plot(history.history[metric_name],color='blue',label=metric_name)\n",
    "    plt.plot(history.history['val_' + metric_name],color='green',label='val_' + metric_name)\n",
    "\n",
    "\n",
    "plot_metrics(metric_name='loss', title=\"Loss\", ylim=0.2)"
   ]
  },
  {
   "cell_type": "code",
   "execution_count": 47,
   "id": "535b6952",
   "metadata": {},
   "outputs": [],
   "source": [
    "# utility to display a row of digits with their predictions\n",
    "def display_images(left, right, predictions, labels, title, n):\n",
    "    plt.figure(figsize=(17,3))\n",
    "    plt.title(title)\n",
    "    plt.yticks([])\n",
    "    plt.xticks([])\n",
    "\n",
    "    left = np.reshape(left, [n, 28, 28])\n",
    "    left = np.swapaxes(left, 0, 1)\n",
    "    left = np.reshape(left, [28, 28*n])\n",
    "    \n",
    "    plt.imshow(left, cmap=\"gray\")\n",
    "    plt.figure(figsize=(17,3))\n",
    "    plt.yticks([])\n",
    "    plt.xticks([28*x+14 for x in range(n)], predictions)\n",
    "    for i,t in enumerate(plt.gca().xaxis.get_ticklabels()):\n",
    "        if predictions[i] > 0.5: t.set_color('red') # bad predictions in red\n",
    "    right = np.reshape(right, [n, 28, 28])\n",
    "    right = np.swapaxes(right, 0, 1)\n",
    "    right = np.reshape(right, [28, 28*n])\n",
    "    plt.imshow(right, cmap=\"gray\")"
   ]
  },
  {
   "cell_type": "code",
   "execution_count": 48,
   "id": "286bc881",
   "metadata": {},
   "outputs": [
    {
     "name": "stdout",
     "output_type": "stream",
     "text": [
      "(10, 28, 28)\n"
     ]
    },
    {
     "data": {
      "image/png": "[encoded data removed]",
      "text/plain": [
       "<Figure size 1224x216 with 1 Axes>"
      ]
     },
     "metadata": {},
     "output_type": "display_data"
    },
    {
     "data": {
      "image/png": "[encoded data removed]",
      "text/plain": [
       "<Figure size 1224x216 with 1 Axes>"
      ]
     },
     "metadata": {
      "needs_background": "light"
     },
     "output_type": "display_data"
    }
   ],
   "source": [
    "y_pred_train = np.squeeze(y_pred_train)\n",
    "indexes = np.random.choice(len(y_pred_train), size=10)\n",
    "display_images(tr_pairs[:, 0][indexes], tr_pairs[:, 1][indexes], y_pred_train[indexes], tr_y[indexes], \"numbers and their dissimilarity\", 10)"
   ]
  },
  {
   "cell_type": "code",
   "execution_count": 44,
   "id": "1863274c",
   "metadata": {},
   "outputs": [],
   "source": [
    "model.save('siames_network.h5')"
   ]
  },
  {
   "cell_type": "code",
   "execution_count": 21,
   "id": "4f2a8a37",
   "metadata": {},
   "outputs": [
    {
     "ename": "SystemError",
     "evalue": "Exception encountered when calling layer \"output_layer\" (type Lambda).\n\nunknown opcode\n\nCall arguments received:\n  • inputs=['tf.Tensor(shape=(None, 128), dtype=float32)', 'tf.Tensor(shape=(None, 128), dtype=float32)']\n  • mask=None\n  • training=False",
     "output_type": "error",
     "traceback": [
      "\u001b[1;31m---------------------------------------------------------------------------\u001b[0m",
      "\u001b[1;31mSystemError\u001b[0m                               Traceback (most recent call last)",
      "Input \u001b[1;32mIn [21]\u001b[0m, in \u001b[0;36m<cell line: 1>\u001b[1;34m()\u001b[0m\n\u001b[1;32m----> 1\u001b[0m model \u001b[38;5;241m=\u001b[39m \u001b[43mload_model\u001b[49m\u001b[43m(\u001b[49m\u001b[38;5;124;43m'\u001b[39;49m\u001b[38;5;124;43msiames_network.h5\u001b[39;49m\u001b[38;5;124;43m'\u001b[39;49m\u001b[43m)\u001b[49m\n",
      "File \u001b[1;32m~\\AppData\\Local\\Programs\\Python\\Python39\\lib\\site-packages\\keras\\utils\\traceback_utils.py:67\u001b[0m, in \u001b[0;36mfilter_traceback.<locals>.error_handler\u001b[1;34m(*args, **kwargs)\u001b[0m\n\u001b[0;32m     65\u001b[0m \u001b[38;5;28;01mexcept\u001b[39;00m \u001b[38;5;167;01mException\u001b[39;00m \u001b[38;5;28;01mas\u001b[39;00m e:  \u001b[38;5;66;03m# pylint: disable=broad-except\u001b[39;00m\n\u001b[0;32m     66\u001b[0m   filtered_tb \u001b[38;5;241m=\u001b[39m _process_traceback_frames(e\u001b[38;5;241m.\u001b[39m__traceback__)\n\u001b[1;32m---> 67\u001b[0m   \u001b[38;5;28;01mraise\u001b[39;00m e\u001b[38;5;241m.\u001b[39mwith_traceback(filtered_tb) \u001b[38;5;28;01mfrom\u001b[39;00m \u001b[38;5;28mNone\u001b[39m\n\u001b[0;32m     68\u001b[0m \u001b[38;5;28;01mfinally\u001b[39;00m:\n\u001b[0;32m     69\u001b[0m   \u001b[38;5;28;01mdel\u001b[39;00m filtered_tb\n",
      "File \u001b[1;32mC:/Users/MAT/AppData/Local/Temp/ipykernel_5820/1283284460.py:14\u001b[0m, in \u001b[0;36meuclidean_distance\u001b[1;34m(vects)\u001b[0m\n",
      "\u001b[1;31mSystemError\u001b[0m: Exception encountered when calling layer \"output_layer\" (type Lambda).\n\nunknown opcode\n\nCall arguments received:\n  • inputs=['tf.Tensor(shape=(None, 128), dtype=float32)', 'tf.Tensor(shape=(None, 128), dtype=float32)']\n  • mask=None\n  • training=False"
     ]
    }
   ],
   "source": []
  },
  {
   "cell_type": "code",
   "execution_count": null,
   "id": "58db13ff",
   "metadata": {},
   "outputs": [],
   "source": []
  }
 ],
 "metadata": {
  "kernelspec": {
   "display_name": "Python 3 (ipykernel)",
   "language": "python",
   "name": "python3"
  },
  "language_info": {
   "codemirror_mode": {
    "name": "ipython",
    "version": 3
   },
   "file_extension": ".py",
   "mimetype": "text/x-python",
   "name": "python",
   "nbconvert_exporter": "python",
   "pygments_lexer": "ipython3",
   "version": "3.9.7"
  }
 },
 "nbformat": 4,
 "nbformat_minor": 5
}
