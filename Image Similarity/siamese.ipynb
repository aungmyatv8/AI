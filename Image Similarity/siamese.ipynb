{
 "cells": [
  {
   "cell_type": "code",
   "execution_count": 1,
   "id": "9ee856ce",
   "metadata": {},
   "outputs": [],
   "source": [
    "import tensorflow as tf\n",
    "from tensorflow.keras.models import Model\n",
    "from tensorflow.keras.layers import Input, Flatten, Dense, Dropout, Lambda\n",
    "from tensorflow.keras.optimizers import RMSprop\n",
    "from tensorflow.keras.datasets import mnist\n",
    "from tensorflow.keras import backend as K\n",
    "from tensorflow_addons.losses import contrastive_loss\n",
    "import numpy as np\n",
    "import matplotlib.pyplot as plt\n",
    "import random\n",
    " "
   ]
  },
  {
   "cell_type": "code",
   "execution_count": 2,
   "id": "17e2eb4d",
   "metadata": {},
   "outputs": [],
   "source": [
    "# load the dataset\n",
    "(train_images, train_labels), (test_images, test_labels) = mnist.load_data()\n",
    "\n",
    "# prepare train and test sets\n",
    "train_images = train_images.astype('float32')\n",
    "test_images = test_images.astype('float32')\n",
    "\n",
    "# normalize values\n",
    "train_images = train_images / 255.0\n",
    "test_images = test_images / 255.0\n",
    "\n"
   ]
  },
  {
   "cell_type": "code",
   "execution_count": 3,
   "id": "83319bbd",
   "metadata": {},
   "outputs": [],
   "source": [
    "def create_index_label(labels, classes=10):\n",
    "    index_list = []\n",
    "    for i in range(0, classes):\n",
    "        idxes = np.where(labels == i)[0] # build a list of indexes for each class label\n",
    "        index_list.append(idxes)\n",
    "#         print(\"{} : {}\".format(i, len(idxes)))\n",
    "    return index_list\n",
    "\n",
    "#create_index_label(train_labels)"
   ]
  },
  {
   "cell_type": "code",
   "execution_count": 4,
   "id": "a4ed94dd",
   "metadata": {},
   "outputs": [],
   "source": [
    "#     digit_indices = [np.where(labels == i)[0] for i in range(10)]    \n",
    "    \n",
    "def create_pairs(x, digit_indices):\n",
    "    '''Positive and negative pair creation.\n",
    "    Alternates between positive and negative pairs.\n",
    "    '''\n",
    "    pairs = []\n",
    "    labels = []\n",
    "    n = min([len(digit_indices[d]) for d in range(10)]) - 1 # getting the minium number from index list\n",
    "    \n",
    "    for d in range(10):\n",
    "        for i in range(n):\n",
    "            z1, z2 = digit_indices[d][i], digit_indices[d][i + 1] # same pair\n",
    "            pairs += [[x[z1], x[z2]]]\n",
    "            inc = random.randrange(1, 10)\n",
    "            dn = (d + inc) % 10\n",
    "            z1, z2 = digit_indices[d][i], digit_indices[dn][i] # random pair\n",
    "            pairs += [[x[z1], x[z2]]]\n",
    "            labels += [1, 0] # every random pair follow after the same pairs\n",
    "    return np.array(pairs), np.array(labels)\n",
    "\n",
    "def create_pairs_on_set(images, labels):   \n",
    "    digit_indices = create_index_label(labels)\n",
    "    pairs, y = create_pairs(images, digit_indices)\n",
    "    y = y.astype('float32')\n",
    "    return pairs, y\n",
    "\n",
    "def show_image(image):\n",
    "    plt.figure()\n",
    "    plt.imshow(image, cmap=\"gray\")\n",
    "    plt.grid(False)\n",
    "    plt.show()"
   ]
  },
  {
   "cell_type": "code",
   "execution_count": 8,
   "id": "fbedae79",
   "metadata": {},
   "outputs": [
    {
     "name": "stdout",
     "output_type": "stream",
     "text": [
      "(108400, 2, 28, 28)\n",
      "1.0\n"
     ]
    }
   ],
   "source": [
    "# create pairs on train and test sets\n",
    "tr_pairs, tr_y = create_pairs_on_set(train_images, train_labels)\n",
    "ts_pairs, ts_y = create_pairs_on_set(test_images, test_labels)\n",
    "print(tr_pairs.shape)\n",
    "print(tr_y[2])"
   ]
  },
  {
   "cell_type": "code",
   "execution_count": 9,
   "id": "5b3c0a76",
   "metadata": {},
   "outputs": [
    {
     "data": {
      "image/png": "[encoded data removed]",
      "text/plain": [
       "<Figure size 432x288 with 1 Axes>"
      ]
     },
     "metadata": {
      "needs_background": "light"
     },
     "output_type": "display_data"
    },
    {
     "data": {
      "image/png": "[encoded data removed]",
      "text/plain": [
       "<Figure size 432x288 with 1 Axes>"
      ]
     },
     "metadata": {
      "needs_background": "light"
     },
     "output_type": "display_data"
    },
    {
     "name": "stdout",
     "output_type": "stream",
     "text": [
      "Similarity is True\n"
     ]
    }
   ],
   "source": [
    "# array index\n",
    "pair_index = 0\n",
    "\n",
    "show_image(tr_pairs[pair_index][0])\n",
    "show_image(tr_pairs[pair_index][1])\n",
    "print(\"Similarity is {}\".format(tr_y[pair_index] == 1.0) )"
   ]
  },
  {
   "cell_type": "code",
   "execution_count": 9,
   "id": "79870c91",
   "metadata": {},
   "outputs": [],
   "source": [
    "def base_model():\n",
    "    input = Input(shape=(28,28,), name=\"base_input\")\n",
    "    x = Flatten(name=\"flatten_input\")(input)\n",
    "    x = Dense(128, activation='relu', name=\"first_base_dense\")(x)\n",
    "    x = Dropout(0.1, name=\"first_dropout\")(x)\n",
    "    x = Dense(128, activation='relu', name=\"second_base_dense\")(x)\n",
    "    x = Dropout(0.1, name=\"second_dropout\")(x)\n",
    "    x = Dense(128, activation='relu', name=\"third_base_dense\")(x)\n",
    "\n",
    "    return Model(inputs=input, outputs=x)\n",
    "\n",
    "\n",
    "def euclidean_distance(vects):\n",
    "    x, y = vects\n",
    "    sum_square = K.sum(K.square(x - y), axis=1, keepdims=True)\n",
    "    return K.sqrt(K.maximum(sum_square, K.epsilon()))\n",
    "\n",
    "\n",
    "def eucl_dist_output_shape(shapes):\n",
    "    shape1, shape2 = shapes\n",
    "    return (shape1[0], 1)"
   ]
  },
  {
   "cell_type": "code",
   "execution_count": 10,
   "id": "7b73f107",
   "metadata": {},
   "outputs": [],
   "source": [
    "base_network = base_model()"
   ]
  },
  {
   "cell_type": "code",
   "execution_count": 11,
   "id": "74695b80",
   "metadata": {},
   "outputs": [],
   "source": [
    "# create the left input and point to the base network\n",
    "input_a = Input(shape=(28,28,), name=\"left image\")\n",
    "vect_output_a = base_network(input_a)\n",
    "\n",
    "# create the right input and point to the base network\n",
    "input_b = Input(shape=(28,28,), name=\"right image\")\n",
    "vect_output_b = base_network(input_b)\n",
    "\n",
    "# measure the similarity of the two vector outputs\n",
    "output = Lambda(euclidean_distance, name=\"output_layer\", output_shape=eucl_dist_output_shape)([vect_output_a, vect_output_b])\n",
    "\n",
    "\n",
    "# specify the inputs and output of the model\n",
    "model = Model([input_a, input_b], output)\n",
    "\n"
   ]
  },
  {
   "cell_type": "code",
   "execution_count": 22,
   "id": "92fad32b",
   "metadata": {},
   "outputs": [
    {
     "name": "stdout",
     "output_type": "stream",
     "text": [
      "Epoch 1/30\n",
      "1694/1694 [==============================] - 8s 4ms/step - loss: 0.0120 - val_loss: 0.0318\n",
      "Epoch 2/30\n",
      "1694/1694 [==============================] - 7s 4ms/step - loss: 0.0123 - val_loss: 0.0321\n",
      "Epoch 3/30\n",
      "1694/1694 [==============================] - 9s 5ms/step - loss: 0.0125 - val_loss: 0.0316\n",
      "Epoch 4/30\n",
      "1694/1694 [==============================] - 8s 5ms/step - loss: 0.0124 - val_loss: 0.0322\n",
      "Epoch 5/30\n",
      "1694/1694 [==============================] - 9s 5ms/step - loss: 0.0136 - val_loss: 0.0309\n",
      "Epoch 6/30\n",
      "1694/1694 [==============================] - 7s 4ms/step - loss: 0.0130 - val_loss: 0.0319\n",
      "Epoch 7/30\n",
      "1694/1694 [==============================] - 7s 4ms/step - loss: 0.0124 - val_loss: 0.0324\n",
      "Epoch 8/30\n",
      "1694/1694 [==============================] - 8s 5ms/step - loss: 0.0128 - val_loss: 0.0318\n",
      "Epoch 9/30\n",
      "1694/1694 [==============================] - 7s 4ms/step - loss: 0.0133 - val_loss: 0.0318\n",
      "Epoch 10/30\n",
      "1694/1694 [==============================] - 7s 4ms/step - loss: 0.0124 - val_loss: 0.0317\n",
      "Epoch 11/30\n",
      "1694/1694 [==============================] - 7s 4ms/step - loss: 0.0121 - val_loss: 0.0320\n",
      "Epoch 12/30\n",
      "1694/1694 [==============================] - 7s 4ms/step - loss: 0.0123 - val_loss: 0.0330\n",
      "Epoch 13/30\n",
      "1694/1694 [==============================] - 7s 4ms/step - loss: 0.0122 - val_loss: 0.0316\n",
      "Epoch 14/30\n",
      "1694/1694 [==============================] - 8s 5ms/step - loss: 0.0127 - val_loss: 0.0315\n",
      "Epoch 15/30\n",
      "1694/1694 [==============================] - 8s 4ms/step - loss: 0.0126 - val_loss: 0.0324\n",
      "Epoch 16/30\n",
      "1694/1694 [==============================] - 9s 5ms/step - loss: 0.0131 - val_loss: 0.0333\n",
      "Epoch 17/30\n",
      "1694/1694 [==============================] - 8s 5ms/step - loss: 0.0129 - val_loss: 0.0316\n",
      "Epoch 18/30\n",
      "1694/1694 [==============================] - 8s 5ms/step - loss: 0.0126 - val_loss: 0.0340\n",
      "Epoch 19/30\n",
      "1694/1694 [==============================] - 8s 5ms/step - loss: 0.0137 - val_loss: 0.0316\n",
      "Epoch 20/30\n",
      "1694/1694 [==============================] - 8s 5ms/step - loss: 0.0136 - val_loss: 0.0319\n",
      "Epoch 21/30\n",
      "1694/1694 [==============================] - 8s 5ms/step - loss: 0.0136 - val_loss: 0.0325\n",
      "Epoch 22/30\n",
      "1694/1694 [==============================] - 8s 5ms/step - loss: 0.0141 - val_loss: 0.0329\n",
      "Epoch 23/30\n",
      "1694/1694 [==============================] - 8s 5ms/step - loss: 0.0129 - val_loss: 0.0324\n",
      "Epoch 24/30\n",
      "1694/1694 [==============================] - 8s 5ms/step - loss: 0.0133 - val_loss: 0.0320\n",
      "Epoch 25/30\n",
      "1694/1694 [==============================] - 8s 4ms/step - loss: 0.0138 - val_loss: 0.0313\n",
      "Epoch 26/30\n",
      "1694/1694 [==============================] - 8s 5ms/step - loss: 0.0132 - val_loss: 0.0330\n",
      "Epoch 27/30\n",
      "1694/1694 [==============================] - 8s 5ms/step - loss: 0.0130 - val_loss: 0.0336\n",
      "Epoch 28/30\n",
      "1694/1694 [==============================] - 8s 5ms/step - loss: 0.0133 - val_loss: 0.0339\n",
      "Epoch 29/30\n",
      "1694/1694 [==============================] - 8s 5ms/step - loss: 0.0130 - val_loss: 0.0334\n",
      "Epoch 30/30\n",
      "1694/1694 [==============================] - 8s 5ms/step - loss: 0.0133 - val_loss: 0.0335\n"
     ]
    }
   ],
   "source": [
    "model.compile(loss=contrastive_loss, optimizer=RMSprop())\n",
    "history = model.fit([tr_pairs[:,0], tr_pairs[:,1]], tr_y, epochs=30, batch_size=64, validation_data=([ts_pairs[:,0], ts_pairs[:,1]], ts_y))"
   ]
  },
  {
   "cell_type": "code",
   "execution_count": 23,
   "id": "40be0968",
   "metadata": {},
   "outputs": [
    {
     "name": "stdout",
     "output_type": "stream",
     "text": [
      "557/557 [==============================] - 1s 2ms/step - loss: 0.0335\n"
     ]
    }
   ],
   "source": [
    "loss = model.evaluate(x=[ts_pairs[:,0],ts_pairs[:,1]], y=ts_y)\n"
   ]
  },
  {
   "cell_type": "code",
   "execution_count": 27,
   "id": "b641829d",
   "metadata": {},
   "outputs": [
    {
     "name": "stdout",
     "output_type": "stream",
     "text": [
      "[0.00817061]\n"
     ]
    }
   ],
   "source": [
    "y_pred_train = model.predict([tr_pairs[:,0], tr_pairs[:,1]])\n",
    "y_pred_test = model.predict([ts_pairs[:,0], ts_pairs[:,1]])\n",
    "\n",
    "print(y_pred_train[0])"
   ]
  },
  {
   "cell_type": "code",
   "execution_count": 21,
   "id": "3766c0d8",
   "metadata": {},
   "outputs": [
    {
     "data": {
      "image/png": "[encoded data removed]",
      "text/plain": [
       "<Figure size 432x288 with 1 Axes>"
      ]
     },
     "metadata": {
      "needs_background": "light"
     },
     "output_type": "display_data"
    }
   ],
   "source": [
    "def plot_metrics(metric_name, title, ylim=5):\n",
    "    plt.title(title)\n",
    "    plt.ylim(0,ylim)\n",
    "    plt.plot(history.history[metric_name],color='blue',label=metric_name)\n",
    "    plt.plot(history.history['val_' + metric_name],color='green',label='val_' + metric_name)\n",
    "\n",
    "\n",
    "plot_metrics(metric_name='loss', title=\"Loss\", ylim=0.2)"
   ]
  },
  {
   "cell_type": "code",
   "execution_count": 16,
   "id": "535b6952",
   "metadata": {},
   "outputs": [],
   "source": [
    "# utility to display a row of digits with their predictions\n",
    "def display_images(left, right, predictions, labels, title, n):\n",
    "    plt.figure(figsize=(17,3))\n",
    "    plt.title(title)\n",
    "    plt.yticks([])\n",
    "    plt.xticks([])\n",
    "\n",
    "    left = np.reshape(left, [n, 28, 28])\n",
    "    left = np.swapaxes(left, 0, 1)\n",
    "    left = np.reshape(left, [28, 28*n])\n",
    "    \n",
    "    plt.imshow(left, cmap=\"gray\")\n",
    "    plt.figure(figsize=(17,3))\n",
    "    plt.yticks([])\n",
    "    plt.xticks([28*x+14 for x in range(n)], predictions)\n",
    "    for i,t in enumerate(plt.gca().xaxis.get_ticklabels()):\n",
    "        if predictions[i] > 0.5: t.set_color('red') # bad predictions in red\n",
    "    right = np.reshape(right, [n, 28, 28])\n",
    "    right = np.swapaxes(right, 0, 1)\n",
    "    right = np.reshape(right, [28, 28*n])\n",
    "    plt.imshow(right, cmap=\"gray\")"
   ]
  },
  {
   "cell_type": "code",
   "execution_count": 21,
   "id": "286bc881",
   "metadata": {},
   "outputs": [
    {
     "data": {
      "image/png": "[encoded data removed]",
      "text/plain": [
       "<Figure size 1224x216 with 1 Axes>"
      ]
     },
     "metadata": {},
     "output_type": "display_data"
    },
    {
     "data": {
      "image/png": "[encoded data removed]",
      "text/plain": [
       "<Figure size 1224x216 with 1 Axes>"
      ]
     },
     "metadata": {
      "needs_background": "light"
     },
     "output_type": "display_data"
    }
   ],
   "source": [
    "y_pred_train = np.squeeze(y_pred_train)\n",
    "indexes = np.random.choice(len(y_pred_train), size=10)\n",
    "display_images(tr_pairs[:, 0][indexes], tr_pairs[:, 1][indexes], y_pred_train[indexes], tr_y[indexes], \"numbers and their dissimilarity\", 10)"
   ]
  },
  {
   "cell_type": "code",
   "execution_count": 44,
   "id": "1863274c",
   "metadata": {},
   "outputs": [],
   "source": [
    "model.save('siames_network.h5')"
   ]
  },
  {
   "cell_type": "code",
   "execution_count": 14,
   "id": "4f2a8a37",
   "metadata": {},
   "outputs": [],
   "source": [
    "model.load_weights('siames_network.h5')"
   ]
  },
  {
   "cell_type": "code",
   "execution_count": null,
   "id": "58db13ff",
   "metadata": {},
   "outputs": [],
   "source": []
  }
 ],
 "metadata": {
  "kernelspec": {
   "display_name": "Python 3 (ipykernel)",
   "language": "python",
   "name": "python3"
  },
  "language_info": {
   "codemirror_mode": {
    "name": "ipython",
    "version": 3
   },
   "file_extension": ".py",
   "mimetype": "text/x-python",
   "name": "python",
   "nbconvert_exporter": "python",
   "pygments_lexer": "ipython3",
   "version": "3.9.7"
  }
 },
 "nbformat": 4,
 "nbformat_minor": 5
}
