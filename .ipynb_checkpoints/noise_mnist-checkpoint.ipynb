{
 "cells": [
  {
   "cell_type": "code",
   "execution_count": 1,
   "id": "84d2b265",
   "metadata": {},
   "outputs": [],
   "source": [
    "import tensorflow as tf\n",
    "from tensorflow.keras import datasets, layers, models\n",
    "import matplotlib.pyplot as plt\n",
    "from tensorflow.keras.utils import to_categorical\n",
    "import numpy as np"
   ]
  },
  {
   "cell_type": "code",
   "execution_count": 2,
   "id": "154f8693",
   "metadata": {},
   "outputs": [
    {
     "name": "stdout",
     "output_type": "stream",
     "text": [
      "(60000, 28, 28) (60000,)\n",
      "(10000, 28, 28)\n",
      "(10000, 28, 28) (10000,)\n"
     ]
    }
   ],
   "source": [
    "(x_train, y_train), (x_test, y_test) = datasets.fashion_mnist.load_data()\n",
    "print(x_train.shape, y_train.shape)\n",
    "print(x_test.shape)\n",
    "print(x_test.shape, y_test.shape)"
   ]
  },
  {
   "cell_type": "code",
   "execution_count": 3,
   "id": "31580476",
   "metadata": {},
   "outputs": [
    {
     "data": {
      "text/plain": [
       "(9, array([0., 0., 0., 0., 0., 0., 0., 0., 0., 1.], dtype=float32))"
      ]
     },
     "execution_count": 3,
     "metadata": {},
     "output_type": "execute_result"
    }
   ],
   "source": [
    "# x_train = np.reshape(x_train, (len(x_train), 28, 28, 1))\n",
    "# x_test = np.reshape(x_test, (len(x_test), 28, 28, 1))\n",
    "# len(x_train)\n",
    "\n",
    "y_train_one_hot = to_categorical(y_train)\n",
    "y_test_one_hot = to_categorical(y_test)\n",
    "\n",
    "y_train[0], y_train_one_hot[0]"
   ]
  },
  {
   "cell_type": "code",
   "execution_count": 4,
   "id": "514df5df",
   "metadata": {},
   "outputs": [],
   "source": [
    "classes = ['t-shirt', 'trouser', 'pullover', 'dress', 'coat', 'sandal', 'shirt', 'sneaker', 'bag', 'ankle boot' ]\n"
   ]
  },
  {
   "cell_type": "code",
   "execution_count": 5,
   "id": "f3f3d948",
   "metadata": {},
   "outputs": [
    {
     "data": {
      "text/plain": [
       "Text(0.5, 1.0, 'ankle boot')"
      ]
     },
     "execution_count": 5,
     "metadata": {},
     "output_type": "execute_result"
    },
    {
     "data": {
      "image/png": "[encoded data removed]",
      "text/plain": [
       "<Figure size 432x288 with 2 Axes>"
      ]
     },
     "metadata": {
      "needs_background": "light"
     },
     "output_type": "display_data"
    }
   ],
   "source": [
    "# plotting to test correct label\n",
    "\n",
    "fig = plt.figure()\n",
    "ax = fig.add_subplot(1, 2, 1)\n",
    "imgplot = plt.imshow(x_train[0])\n",
    "ax.set_title('{}'.format(classes[y_train[0]]))\n",
    "\n",
    "ax = fig.add_subplot(1, 2, 2)\n",
    "imgplot = plt.imshow(x_test[0])\n",
    "ax.set_title('{}'.format(classes[y_test[0]]))"
   ]
  },
  {
   "cell_type": "code",
   "execution_count": 6,
   "id": "ded81a88",
   "metadata": {},
   "outputs": [
    {
     "data": {
      "text/plain": [
       "array([[  0,   0,   0,   0,   0,   0,   0,   0,   0,   0,   0,   0,   0,\n",
       "          0,   0,   0,   0,   0,   0,   0,   0,   0,   0,   0,   0,   0,\n",
       "          0,   0],\n",
       "       [  0,   0,   0,   0,   0,   0,   0,   0,   0,   0,   0,   0,   0,\n",
       "          0,   0,   0,   0,   0,   0,   0,   0,   0,   0,   0,   0,   0,\n",
       "          0,   0],\n",
       "       [  0,   0,   0,   0,   0,   0,   0,   0,   0,   0,   0,   0,   0,\n",
       "          0,   0,   0,   0,   0,   0,   0,   0,   0,   0,   0,   0,   0,\n",
       "          0,   0],\n",
       "       [  0,   0,   0,   0,   0,   0,   0,   0,   0,   0,   0,   0,   1,\n",
       "          0,   0,  13,  73,   0,   0,   1,   4,   0,   0,   0,   0,   1,\n",
       "          1,   0],\n",
       "       [  0,   0,   0,   0,   0,   0,   0,   0,   0,   0,   0,   0,   3,\n",
       "          0,  36, 136, 127,  62,  54,   0,   0,   0,   1,   3,   4,   0,\n",
       "          0,   3],\n",
       "       [  0,   0,   0,   0,   0,   0,   0,   0,   0,   0,   0,   0,   6,\n",
       "          0, 102, 204, 176, 134, 144, 123,  23,   0,   0,   0,   0,  12,\n",
       "         10,   0],\n",
       "       [  0,   0,   0,   0,   0,   0,   0,   0,   0,   0,   0,   0,   0,\n",
       "          0, 155, 236, 207, 178, 107, 156, 161, 109,  64,  23,  77, 130,\n",
       "         72,  15],\n",
       "       [  0,   0,   0,   0,   0,   0,   0,   0,   0,   0,   0,   1,   0,\n",
       "         69, 207, 223, 218, 216, 216, 163, 127, 121, 122, 146, 141,  88,\n",
       "        172,  66],\n",
       "       [  0,   0,   0,   0,   0,   0,   0,   0,   0,   1,   1,   1,   0,\n",
       "        200, 232, 232, 233, 229, 223, 223, 215, 213, 164, 127, 123, 196,\n",
       "        229,   0],\n",
       "       [  0,   0,   0,   0,   0,   0,   0,   0,   0,   0,   0,   0,   0,\n",
       "        183, 225, 216, 223, 228, 235, 227, 224, 222, 224, 221, 223, 245,\n",
       "        173,   0],\n",
       "       [  0,   0,   0,   0,   0,   0,   0,   0,   0,   0,   0,   0,   0,\n",
       "        193, 228, 218, 213, 198, 180, 212, 210, 211, 213, 223, 220, 243,\n",
       "        202,   0],\n",
       "       [  0,   0,   0,   0,   0,   0,   0,   0,   0,   1,   3,   0,  12,\n",
       "        219, 220, 212, 218, 192, 169, 227, 208, 218, 224, 212, 226, 197,\n",
       "        209,  52],\n",
       "       [  0,   0,   0,   0,   0,   0,   0,   0,   0,   0,   6,   0,  99,\n",
       "        244, 222, 220, 218, 203, 198, 221, 215, 213, 222, 220, 245, 119,\n",
       "        167,  56],\n",
       "       [  0,   0,   0,   0,   0,   0,   0,   0,   0,   4,   0,   0,  55,\n",
       "        236, 228, 230, 228, 240, 232, 213, 218, 223, 234, 217, 217, 209,\n",
       "         92,   0],\n",
       "       [  0,   0,   1,   4,   6,   7,   2,   0,   0,   0,   0,   0, 237,\n",
       "        226, 217, 223, 222, 219, 222, 221, 216, 223, 229, 215, 218, 255,\n",
       "         77,   0],\n",
       "       [  0,   3,   0,   0,   0,   0,   0,   0,   0,  62, 145, 204, 228,\n",
       "        207, 213, 221, 218, 208, 211, 218, 224, 223, 219, 215, 224, 244,\n",
       "        159,   0],\n",
       "       [  0,   0,   0,   0,  18,  44,  82, 107, 189, 228, 220, 222, 217,\n",
       "        226, 200, 205, 211, 230, 224, 234, 176, 188, 250, 248, 233, 238,\n",
       "        215,   0],\n",
       "       [  0,  57, 187, 208, 224, 221, 224, 208, 204, 214, 208, 209, 200,\n",
       "        159, 245, 193, 206, 223, 255, 255, 221, 234, 221, 211, 220, 232,\n",
       "        246,   0],\n",
       "       [  3, 202, 228, 224, 221, 211, 211, 214, 205, 205, 205, 220, 240,\n",
       "         80, 150, 255, 229, 221, 188, 154, 191, 210, 204, 209, 222, 228,\n",
       "        225,   0],\n",
       "       [ 98, 233, 198, 210, 222, 229, 229, 234, 249, 220, 194, 215, 217,\n",
       "        241,  65,  73, 106, 117, 168, 219, 221, 215, 217, 223, 223, 224,\n",
       "        229,  29],\n",
       "       [ 75, 204, 212, 204, 193, 205, 211, 225, 216, 185, 197, 206, 198,\n",
       "        213, 240, 195, 227, 245, 239, 223, 218, 212, 209, 222, 220, 221,\n",
       "        230,  67],\n",
       "       [ 48, 203, 183, 194, 213, 197, 185, 190, 194, 192, 202, 214, 219,\n",
       "        221, 220, 236, 225, 216, 199, 206, 186, 181, 177, 172, 181, 205,\n",
       "        206, 115],\n",
       "       [  0, 122, 219, 193, 179, 171, 183, 196, 204, 210, 213, 207, 211,\n",
       "        210, 200, 196, 194, 191, 195, 191, 198, 192, 176, 156, 167, 177,\n",
       "        210,  92],\n",
       "       [  0,   0,  74, 189, 212, 191, 175, 172, 175, 181, 185, 188, 189,\n",
       "        188, 193, 198, 204, 209, 210, 210, 211, 188, 188, 194, 192, 216,\n",
       "        170,   0],\n",
       "       [  2,   0,   0,   0,  66, 200, 222, 237, 239, 242, 246, 243, 244,\n",
       "        221, 220, 193, 191, 179, 182, 182, 181, 176, 166, 168,  99,  58,\n",
       "          0,   0],\n",
       "       [  0,   0,   0,   0,   0,   0,   0,  40,  61,  44,  72,  41,  35,\n",
       "          0,   0,   0,   0,   0,   0,   0,   0,   0,   0,   0,   0,   0,\n",
       "          0,   0],\n",
       "       [  0,   0,   0,   0,   0,   0,   0,   0,   0,   0,   0,   0,   0,\n",
       "          0,   0,   0,   0,   0,   0,   0,   0,   0,   0,   0,   0,   0,\n",
       "          0,   0],\n",
       "       [  0,   0,   0,   0,   0,   0,   0,   0,   0,   0,   0,   0,   0,\n",
       "          0,   0,   0,   0,   0,   0,   0,   0,   0,   0,   0,   0,   0,\n",
       "          0,   0]], dtype=uint8)"
      ]
     },
     "execution_count": 6,
     "metadata": {},
     "output_type": "execute_result"
    }
   ],
   "source": [
    "x_train.dtype, x_test.dtype\n",
    "x_train[0]"
   ]
  },
  {
   "cell_type": "code",
   "execution_count": 7,
   "id": "168057ac",
   "metadata": {},
   "outputs": [
    {
     "data": {
      "text/plain": [
       "(dtype('float64'),\n",
       " array([[0.        , 0.        , 0.        , 0.        , 0.        ,\n",
       "         0.        , 0.        , 0.        , 0.        , 0.        ,\n",
       "         0.        , 0.        , 0.        , 0.        , 0.        ,\n",
       "         0.        , 0.        , 0.        , 0.        , 0.        ,\n",
       "         0.        , 0.        , 0.        , 0.        , 0.        ,\n",
       "         0.        , 0.        , 0.        ],\n",
       "        [0.        , 0.        , 0.        , 0.        , 0.        ,\n",
       "         0.        , 0.        , 0.        , 0.        , 0.        ,\n",
       "         0.        , 0.        , 0.        , 0.        , 0.        ,\n",
       "         0.        , 0.        , 0.        , 0.        , 0.        ,\n",
       "         0.        , 0.        , 0.        , 0.        , 0.        ,\n",
       "         0.        , 0.        , 0.        ],\n",
       "        [0.        , 0.        , 0.        , 0.        , 0.        ,\n",
       "         0.        , 0.        , 0.        , 0.        , 0.        ,\n",
       "         0.        , 0.        , 0.        , 0.        , 0.        ,\n",
       "         0.        , 0.        , 0.        , 0.        , 0.        ,\n",
       "         0.        , 0.        , 0.        , 0.        , 0.        ,\n",
       "         0.        , 0.        , 0.        ],\n",
       "        [0.        , 0.        , 0.        , 0.        , 0.        ,\n",
       "         0.        , 0.        , 0.        , 0.        , 0.        ,\n",
       "         0.        , 0.        , 0.00392157, 0.        , 0.        ,\n",
       "         0.05098039, 0.28627451, 0.        , 0.        , 0.00392157,\n",
       "         0.01568627, 0.        , 0.        , 0.        , 0.        ,\n",
       "         0.00392157, 0.00392157, 0.        ],\n",
       "        [0.        , 0.        , 0.        , 0.        , 0.        ,\n",
       "         0.        , 0.        , 0.        , 0.        , 0.        ,\n",
       "         0.        , 0.        , 0.01176471, 0.        , 0.14117647,\n",
       "         0.53333333, 0.49803922, 0.24313725, 0.21176471, 0.        ,\n",
       "         0.        , 0.        , 0.00392157, 0.01176471, 0.01568627,\n",
       "         0.        , 0.        , 0.01176471],\n",
       "        [0.        , 0.        , 0.        , 0.        , 0.        ,\n",
       "         0.        , 0.        , 0.        , 0.        , 0.        ,\n",
       "         0.        , 0.        , 0.02352941, 0.        , 0.4       ,\n",
       "         0.8       , 0.69019608, 0.5254902 , 0.56470588, 0.48235294,\n",
       "         0.09019608, 0.        , 0.        , 0.        , 0.        ,\n",
       "         0.04705882, 0.03921569, 0.        ],\n",
       "        [0.        , 0.        , 0.        , 0.        , 0.        ,\n",
       "         0.        , 0.        , 0.        , 0.        , 0.        ,\n",
       "         0.        , 0.        , 0.        , 0.        , 0.60784314,\n",
       "         0.9254902 , 0.81176471, 0.69803922, 0.41960784, 0.61176471,\n",
       "         0.63137255, 0.42745098, 0.25098039, 0.09019608, 0.30196078,\n",
       "         0.50980392, 0.28235294, 0.05882353],\n",
       "        [0.        , 0.        , 0.        , 0.        , 0.        ,\n",
       "         0.        , 0.        , 0.        , 0.        , 0.        ,\n",
       "         0.        , 0.00392157, 0.        , 0.27058824, 0.81176471,\n",
       "         0.8745098 , 0.85490196, 0.84705882, 0.84705882, 0.63921569,\n",
       "         0.49803922, 0.4745098 , 0.47843137, 0.57254902, 0.55294118,\n",
       "         0.34509804, 0.6745098 , 0.25882353],\n",
       "        [0.        , 0.        , 0.        , 0.        , 0.        ,\n",
       "         0.        , 0.        , 0.        , 0.        , 0.00392157,\n",
       "         0.00392157, 0.00392157, 0.        , 0.78431373, 0.90980392,\n",
       "         0.90980392, 0.91372549, 0.89803922, 0.8745098 , 0.8745098 ,\n",
       "         0.84313725, 0.83529412, 0.64313725, 0.49803922, 0.48235294,\n",
       "         0.76862745, 0.89803922, 0.        ],\n",
       "        [0.        , 0.        , 0.        , 0.        , 0.        ,\n",
       "         0.        , 0.        , 0.        , 0.        , 0.        ,\n",
       "         0.        , 0.        , 0.        , 0.71764706, 0.88235294,\n",
       "         0.84705882, 0.8745098 , 0.89411765, 0.92156863, 0.89019608,\n",
       "         0.87843137, 0.87058824, 0.87843137, 0.86666667, 0.8745098 ,\n",
       "         0.96078431, 0.67843137, 0.        ],\n",
       "        [0.        , 0.        , 0.        , 0.        , 0.        ,\n",
       "         0.        , 0.        , 0.        , 0.        , 0.        ,\n",
       "         0.        , 0.        , 0.        , 0.75686275, 0.89411765,\n",
       "         0.85490196, 0.83529412, 0.77647059, 0.70588235, 0.83137255,\n",
       "         0.82352941, 0.82745098, 0.83529412, 0.8745098 , 0.8627451 ,\n",
       "         0.95294118, 0.79215686, 0.        ],\n",
       "        [0.        , 0.        , 0.        , 0.        , 0.        ,\n",
       "         0.        , 0.        , 0.        , 0.        , 0.00392157,\n",
       "         0.01176471, 0.        , 0.04705882, 0.85882353, 0.8627451 ,\n",
       "         0.83137255, 0.85490196, 0.75294118, 0.6627451 , 0.89019608,\n",
       "         0.81568627, 0.85490196, 0.87843137, 0.83137255, 0.88627451,\n",
       "         0.77254902, 0.81960784, 0.20392157],\n",
       "        [0.        , 0.        , 0.        , 0.        , 0.        ,\n",
       "         0.        , 0.        , 0.        , 0.        , 0.        ,\n",
       "         0.02352941, 0.        , 0.38823529, 0.95686275, 0.87058824,\n",
       "         0.8627451 , 0.85490196, 0.79607843, 0.77647059, 0.86666667,\n",
       "         0.84313725, 0.83529412, 0.87058824, 0.8627451 , 0.96078431,\n",
       "         0.46666667, 0.65490196, 0.21960784],\n",
       "        [0.        , 0.        , 0.        , 0.        , 0.        ,\n",
       "         0.        , 0.        , 0.        , 0.        , 0.01568627,\n",
       "         0.        , 0.        , 0.21568627, 0.9254902 , 0.89411765,\n",
       "         0.90196078, 0.89411765, 0.94117647, 0.90980392, 0.83529412,\n",
       "         0.85490196, 0.8745098 , 0.91764706, 0.85098039, 0.85098039,\n",
       "         0.81960784, 0.36078431, 0.        ],\n",
       "        [0.        , 0.        , 0.00392157, 0.01568627, 0.02352941,\n",
       "         0.02745098, 0.00784314, 0.        , 0.        , 0.        ,\n",
       "         0.        , 0.        , 0.92941176, 0.88627451, 0.85098039,\n",
       "         0.8745098 , 0.87058824, 0.85882353, 0.87058824, 0.86666667,\n",
       "         0.84705882, 0.8745098 , 0.89803922, 0.84313725, 0.85490196,\n",
       "         1.        , 0.30196078, 0.        ],\n",
       "        [0.        , 0.01176471, 0.        , 0.        , 0.        ,\n",
       "         0.        , 0.        , 0.        , 0.        , 0.24313725,\n",
       "         0.56862745, 0.8       , 0.89411765, 0.81176471, 0.83529412,\n",
       "         0.86666667, 0.85490196, 0.81568627, 0.82745098, 0.85490196,\n",
       "         0.87843137, 0.8745098 , 0.85882353, 0.84313725, 0.87843137,\n",
       "         0.95686275, 0.62352941, 0.        ],\n",
       "        [0.        , 0.        , 0.        , 0.        , 0.07058824,\n",
       "         0.17254902, 0.32156863, 0.41960784, 0.74117647, 0.89411765,\n",
       "         0.8627451 , 0.87058824, 0.85098039, 0.88627451, 0.78431373,\n",
       "         0.80392157, 0.82745098, 0.90196078, 0.87843137, 0.91764706,\n",
       "         0.69019608, 0.7372549 , 0.98039216, 0.97254902, 0.91372549,\n",
       "         0.93333333, 0.84313725, 0.        ],\n",
       "        [0.        , 0.22352941, 0.73333333, 0.81568627, 0.87843137,\n",
       "         0.86666667, 0.87843137, 0.81568627, 0.8       , 0.83921569,\n",
       "         0.81568627, 0.81960784, 0.78431373, 0.62352941, 0.96078431,\n",
       "         0.75686275, 0.80784314, 0.8745098 , 1.        , 1.        ,\n",
       "         0.86666667, 0.91764706, 0.86666667, 0.82745098, 0.8627451 ,\n",
       "         0.90980392, 0.96470588, 0.        ],\n",
       "        [0.01176471, 0.79215686, 0.89411765, 0.87843137, 0.86666667,\n",
       "         0.82745098, 0.82745098, 0.83921569, 0.80392157, 0.80392157,\n",
       "         0.80392157, 0.8627451 , 0.94117647, 0.31372549, 0.58823529,\n",
       "         1.        , 0.89803922, 0.86666667, 0.7372549 , 0.60392157,\n",
       "         0.74901961, 0.82352941, 0.8       , 0.81960784, 0.87058824,\n",
       "         0.89411765, 0.88235294, 0.        ],\n",
       "        [0.38431373, 0.91372549, 0.77647059, 0.82352941, 0.87058824,\n",
       "         0.89803922, 0.89803922, 0.91764706, 0.97647059, 0.8627451 ,\n",
       "         0.76078431, 0.84313725, 0.85098039, 0.94509804, 0.25490196,\n",
       "         0.28627451, 0.41568627, 0.45882353, 0.65882353, 0.85882353,\n",
       "         0.86666667, 0.84313725, 0.85098039, 0.8745098 , 0.8745098 ,\n",
       "         0.87843137, 0.89803922, 0.11372549],\n",
       "        [0.29411765, 0.8       , 0.83137255, 0.8       , 0.75686275,\n",
       "         0.80392157, 0.82745098, 0.88235294, 0.84705882, 0.7254902 ,\n",
       "         0.77254902, 0.80784314, 0.77647059, 0.83529412, 0.94117647,\n",
       "         0.76470588, 0.89019608, 0.96078431, 0.9372549 , 0.8745098 ,\n",
       "         0.85490196, 0.83137255, 0.81960784, 0.87058824, 0.8627451 ,\n",
       "         0.86666667, 0.90196078, 0.2627451 ],\n",
       "        [0.18823529, 0.79607843, 0.71764706, 0.76078431, 0.83529412,\n",
       "         0.77254902, 0.7254902 , 0.74509804, 0.76078431, 0.75294118,\n",
       "         0.79215686, 0.83921569, 0.85882353, 0.86666667, 0.8627451 ,\n",
       "         0.9254902 , 0.88235294, 0.84705882, 0.78039216, 0.80784314,\n",
       "         0.72941176, 0.70980392, 0.69411765, 0.6745098 , 0.70980392,\n",
       "         0.80392157, 0.80784314, 0.45098039],\n",
       "        [0.        , 0.47843137, 0.85882353, 0.75686275, 0.70196078,\n",
       "         0.67058824, 0.71764706, 0.76862745, 0.8       , 0.82352941,\n",
       "         0.83529412, 0.81176471, 0.82745098, 0.82352941, 0.78431373,\n",
       "         0.76862745, 0.76078431, 0.74901961, 0.76470588, 0.74901961,\n",
       "         0.77647059, 0.75294118, 0.69019608, 0.61176471, 0.65490196,\n",
       "         0.69411765, 0.82352941, 0.36078431],\n",
       "        [0.        , 0.        , 0.29019608, 0.74117647, 0.83137255,\n",
       "         0.74901961, 0.68627451, 0.6745098 , 0.68627451, 0.70980392,\n",
       "         0.7254902 , 0.7372549 , 0.74117647, 0.7372549 , 0.75686275,\n",
       "         0.77647059, 0.8       , 0.81960784, 0.82352941, 0.82352941,\n",
       "         0.82745098, 0.7372549 , 0.7372549 , 0.76078431, 0.75294118,\n",
       "         0.84705882, 0.66666667, 0.        ],\n",
       "        [0.00784314, 0.        , 0.        , 0.        , 0.25882353,\n",
       "         0.78431373, 0.87058824, 0.92941176, 0.9372549 , 0.94901961,\n",
       "         0.96470588, 0.95294118, 0.95686275, 0.86666667, 0.8627451 ,\n",
       "         0.75686275, 0.74901961, 0.70196078, 0.71372549, 0.71372549,\n",
       "         0.70980392, 0.69019608, 0.65098039, 0.65882353, 0.38823529,\n",
       "         0.22745098, 0.        , 0.        ],\n",
       "        [0.        , 0.        , 0.        , 0.        , 0.        ,\n",
       "         0.        , 0.        , 0.15686275, 0.23921569, 0.17254902,\n",
       "         0.28235294, 0.16078431, 0.1372549 , 0.        , 0.        ,\n",
       "         0.        , 0.        , 0.        , 0.        , 0.        ,\n",
       "         0.        , 0.        , 0.        , 0.        , 0.        ,\n",
       "         0.        , 0.        , 0.        ],\n",
       "        [0.        , 0.        , 0.        , 0.        , 0.        ,\n",
       "         0.        , 0.        , 0.        , 0.        , 0.        ,\n",
       "         0.        , 0.        , 0.        , 0.        , 0.        ,\n",
       "         0.        , 0.        , 0.        , 0.        , 0.        ,\n",
       "         0.        , 0.        , 0.        , 0.        , 0.        ,\n",
       "         0.        , 0.        , 0.        ],\n",
       "        [0.        , 0.        , 0.        , 0.        , 0.        ,\n",
       "         0.        , 0.        , 0.        , 0.        , 0.        ,\n",
       "         0.        , 0.        , 0.        , 0.        , 0.        ,\n",
       "         0.        , 0.        , 0.        , 0.        , 0.        ,\n",
       "         0.        , 0.        , 0.        , 0.        , 0.        ,\n",
       "         0.        , 0.        , 0.        ]]))"
      ]
     },
     "execution_count": 7,
     "metadata": {},
     "output_type": "execute_result"
    }
   ],
   "source": [
    "x_train = x_train / 255\n",
    "y_train = y_train / 255\n",
    "\n",
    "x_train.dtype, x_train[0] "
   ]
  },
  {
   "cell_type": "code",
   "execution_count": 8,
   "id": "cd4a7c60",
   "metadata": {},
   "outputs": [
    {
     "data": {
      "text/plain": [
       "(60000, 28, 28)"
      ]
     },
     "execution_count": 8,
     "metadata": {},
     "output_type": "execute_result"
    }
   ],
   "source": [
    "x_train.shape"
   ]
  },
  {
   "cell_type": "code",
   "execution_count": 9,
   "id": "98f89098",
   "metadata": {},
   "outputs": [],
   "source": [
    "# add artificial noise\n",
    "# random noise form normla distribution with mean at 0 and std dev of 1\n",
    "noise_factor = 0.7\n",
    "x_train_noisy = x_train + noise_factor * np.random.normal(loc=0.0, scale=1.0, size=x_train.shape)\n",
    "x_test_noisy = x_test + noise_factor * np.random.normal(loc=0.0, scale=1.0, size=x_test.shape) "
   ]
  },
  {
   "cell_type": "code",
   "execution_count": null,
   "id": "f2ea8b63",
   "metadata": {},
   "outputs": [],
   "source": []
  },
  {
   "cell_type": "code",
   "execution_count": 10,
   "id": "399e6e78",
   "metadata": {},
   "outputs": [],
   "source": [
    "# clipping the values less than 0 and larger than 1\n",
    "x_train_noisy = np.clip(x_train_noisy, 0., 1.)\n",
    "x_test_noisy = np.clip(x_test_noisy, 0., 1.)"
   ]
  },
  {
   "cell_type": "code",
   "execution_count": 11,
   "id": "79c46c64",
   "metadata": {},
   "outputs": [
    {
     "data": {
      "image/png": "[encoded data removed]",
      "text/plain": [
       "<Figure size 1440x144 with 9 Axes>"
      ]
     },
     "metadata": {
      "needs_background": "light"
     },
     "output_type": "display_data"
    }
   ],
   "source": [
    "plt.figure(figsize=(20, 2))\n",
    "for i in range(1,10):\n",
    "    ax = plt.subplot(1, 10, i)\n",
    "    ax.set_title('{}'.format(classes[y_test[i]]))\n",
    "    plt.imshow(x_test_noisy[i])\n",
    "plt.show()"
   ]
  },
  {
   "cell_type": "code",
   "execution_count": 12,
   "id": "9b1fa019",
   "metadata": {},
   "outputs": [],
   "source": [
    "def build_model():\n",
    "    return models.Sequential([\n",
    "        # first convolution layer\n",
    "        layers.Conv2D(16, (3,3), activation='relu', padding='same', input_shape=(28, 28, 1)),\n",
    "        layers.MaxPooling2D(2,2, padding='same'),\n",
    "        #second convolution layer\n",
    "        layers.Conv2D(32, (3,3), activation='relu', padding='same'),\n",
    "        layers.MaxPooling2D(2,2, padding='same'),\n",
    "\n",
    "        layers.Conv2D(64, (3,3), activation='relu', padding='same'),\n",
    "        layers.MaxPooling2D(2,2, padding='same'),\n",
    "        #fifth convolution layer\n",
    "        layers.Conv2D(64, (3,3), activation='relu', padding='same'),\n",
    "        layers.MaxPooling2D(2,2, padding='same'),\n",
    "        #flatten the results to feed into DNN\n",
    "        layers.Flatten(),\n",
    "        #512 neuorn hidden layers\n",
    "        layers.Dense(512, activation='relu'),\n",
    "        layers.Dense(10, activation=\"softmax\"),\n",
    "    ])"
   ]
  },
  {
   "cell_type": "code",
   "execution_count": 13,
   "id": "31c90e44",
   "metadata": {},
   "outputs": [
    {
     "name": "stdout",
     "output_type": "stream",
     "text": [
      "Model: \"sequential\"\n",
      "_________________________________________________________________\n",
      " Layer (type)                Output Shape              Param #   \n",
      "=================================================================\n",
      " conv2d (Conv2D)             (None, 28, 28, 16)        160       \n",
      "                                                                 \n",
      " max_pooling2d (MaxPooling2D  (None, 14, 14, 16)       0         \n",
      " )                                                               \n",
      "                                                                 \n",
      " conv2d_1 (Conv2D)           (None, 14, 14, 32)        4640      \n",
      "                                                                 \n",
      " max_pooling2d_1 (MaxPooling  (None, 7, 7, 32)         0         \n",
      " 2D)                                                             \n",
      "                                                                 \n",
      " conv2d_2 (Conv2D)           (None, 7, 7, 64)          18496     \n",
      "                                                                 \n",
      " max_pooling2d_2 (MaxPooling  (None, 4, 4, 64)         0         \n",
      " 2D)                                                             \n",
      "                                                                 \n",
      " conv2d_3 (Conv2D)           (None, 4, 4, 64)          36928     \n",
      "                                                                 \n",
      " max_pooling2d_3 (MaxPooling  (None, 2, 2, 64)         0         \n",
      " 2D)                                                             \n",
      "                                                                 \n",
      " flatten (Flatten)           (None, 256)               0         \n",
      "                                                                 \n",
      " dense (Dense)               (None, 512)               131584    \n",
      "                                                                 \n",
      " dense_1 (Dense)             (None, 10)                5130      \n",
      "                                                                 \n",
      "=================================================================\n",
      "Total params: 196,938\n",
      "Trainable params: 196,938\n",
      "Non-trainable params: 0\n",
      "_________________________________________________________________\n"
     ]
    }
   ],
   "source": [
    "model = build_model()\n",
    "\n",
    "model.summary()"
   ]
  },
  {
   "cell_type": "code",
   "execution_count": 14,
   "id": "48970925",
   "metadata": {},
   "outputs": [],
   "source": [
    "model.compile(loss='categorical_crossentropy', optimizer=tf.keras.optimizers.SGD(learning_rate=0.01, momentum=0.9), \n",
    "              metrics='accuracy')"
   ]
  },
  {
   "cell_type": "code",
   "execution_count": 15,
   "id": "0d540f82",
   "metadata": {},
   "outputs": [
    {
     "name": "stdout",
     "output_type": "stream",
     "text": [
      "Epoch 1/100\n",
      "32/32 [==============================] - 9s 81ms/step - loss: 2.2769 - accuracy: 0.1809\n",
      "Epoch 2/100\n",
      "32/32 [==============================] - 2s 68ms/step - loss: 1.7892 - accuracy: 0.4919\n",
      "Epoch 3/100\n",
      "32/32 [==============================] - 2s 67ms/step - loss: 2.0080 - accuracy: 0.3798\n",
      "Epoch 4/100\n",
      "32/32 [==============================] - 2s 68ms/step - loss: 0.9145 - accuracy: 0.6589\n",
      "Epoch 5/100\n",
      "32/32 [==============================] - 2s 71ms/step - loss: 0.6726 - accuracy: 0.7462\n",
      "Epoch 6/100\n",
      "32/32 [==============================] - 2s 68ms/step - loss: 0.6184 - accuracy: 0.7620\n",
      "Epoch 7/100\n",
      "32/32 [==============================] - 2s 68ms/step - loss: 0.5679 - accuracy: 0.7881\n",
      "Epoch 8/100\n",
      "32/32 [==============================] - 2s 72ms/step - loss: 0.5232 - accuracy: 0.8096\n",
      "Epoch 9/100\n",
      "32/32 [==============================] - 2s 73ms/step - loss: 0.5043 - accuracy: 0.8159\n",
      "Epoch 10/100\n",
      "32/32 [==============================] - 2s 69ms/step - loss: 0.4836 - accuracy: 0.8235\n",
      "Epoch 11/100\n",
      "32/32 [==============================] - 2s 70ms/step - loss: 0.4675 - accuracy: 0.8315\n",
      "Epoch 12/100\n",
      "32/32 [==============================] - 2s 68ms/step - loss: 0.4600 - accuracy: 0.8322\n",
      "Epoch 13/100\n",
      "32/32 [==============================] - 2s 71ms/step - loss: 0.4398 - accuracy: 0.8404\n",
      "Epoch 14/100\n",
      "32/32 [==============================] - 2s 70ms/step - loss: 0.4338 - accuracy: 0.8424\n",
      "Epoch 15/100\n",
      "32/32 [==============================] - 2s 69ms/step - loss: 0.4170 - accuracy: 0.8489\n",
      "Epoch 16/100\n",
      "32/32 [==============================] - 2s 69ms/step - loss: 0.3996 - accuracy: 0.8566\n",
      "Epoch 17/100\n",
      "32/32 [==============================] - 2s 71ms/step - loss: 0.3940 - accuracy: 0.8573\n",
      "Epoch 18/100\n",
      "32/32 [==============================] - 2s 69ms/step - loss: 0.3860 - accuracy: 0.8616\n",
      "Epoch 19/100\n",
      "32/32 [==============================] - 2s 69ms/step - loss: 0.3991 - accuracy: 0.8539\n",
      "Epoch 20/100\n",
      "32/32 [==============================] - 2s 71ms/step - loss: 0.3787 - accuracy: 0.8640\n",
      "Epoch 21/100\n",
      "32/32 [==============================] - 2s 76ms/step - loss: 0.3680 - accuracy: 0.8666\n",
      "Epoch 22/100\n",
      "32/32 [==============================] - 2s 68ms/step - loss: 0.3638 - accuracy: 0.8682\n",
      "Epoch 23/100\n",
      "32/32 [==============================] - 2s 68ms/step - loss: 0.3537 - accuracy: 0.8723\n",
      "Epoch 24/100\n",
      "32/32 [==============================] - 2s 68ms/step - loss: 0.3472 - accuracy: 0.8752\n",
      "Epoch 25/100\n",
      "32/32 [==============================] - 2s 68ms/step - loss: 0.3412 - accuracy: 0.8771\n",
      "Epoch 26/100\n",
      "32/32 [==============================] - 2s 68ms/step - loss: 0.3398 - accuracy: 0.8774\n",
      "Epoch 27/100\n",
      "32/32 [==============================] - 2s 68ms/step - loss: 0.3335 - accuracy: 0.8798\n",
      "Epoch 28/100\n",
      "32/32 [==============================] - 2s 68ms/step - loss: 0.3385 - accuracy: 0.8773\n",
      "Epoch 29/100\n",
      "32/32 [==============================] - 2s 68ms/step - loss: 0.3242 - accuracy: 0.8826\n",
      "Epoch 30/100\n",
      "32/32 [==============================] - 2s 69ms/step - loss: 0.3199 - accuracy: 0.8848\n",
      "Epoch 31/100\n",
      "32/32 [==============================] - 2s 68ms/step - loss: 0.3141 - accuracy: 0.8877\n",
      "Epoch 32/100\n",
      "32/32 [==============================] - 2s 68ms/step - loss: 0.3258 - accuracy: 0.8819\n",
      "Epoch 33/100\n",
      "32/32 [==============================] - 2s 69ms/step - loss: 0.3089 - accuracy: 0.8890\n",
      "Epoch 34/100\n",
      "32/32 [==============================] - 2s 68ms/step - loss: 0.3024 - accuracy: 0.8914\n",
      "Epoch 35/100\n",
      "32/32 [==============================] - 2s 72ms/step - loss: 0.2995 - accuracy: 0.8916\n",
      "Epoch 36/100\n",
      "32/32 [==============================] - 2s 69ms/step - loss: 0.3096 - accuracy: 0.8875\n",
      "Epoch 37/100\n",
      "32/32 [==============================] - 2s 69ms/step - loss: 0.2963 - accuracy: 0.8931\n",
      "Epoch 38/100\n",
      "32/32 [==============================] - 2s 69ms/step - loss: 0.3048 - accuracy: 0.8898\n",
      "Epoch 39/100\n",
      "32/32 [==============================] - 2s 70ms/step - loss: 0.2902 - accuracy: 0.8942\n",
      "Epoch 40/100\n",
      "32/32 [==============================] - 2s 69ms/step - loss: 0.2922 - accuracy: 0.8931\n",
      "Epoch 41/100\n",
      "32/32 [==============================] - 2s 70ms/step - loss: 0.2907 - accuracy: 0.8942\n",
      "Epoch 42/100\n",
      "32/32 [==============================] - 2s 68ms/step - loss: 0.2775 - accuracy: 0.8995\n",
      "Epoch 43/100\n",
      "32/32 [==============================] - 2s 69ms/step - loss: 0.2862 - accuracy: 0.8951\n",
      "Epoch 44/100\n",
      "32/32 [==============================] - 2s 69ms/step - loss: 0.2802 - accuracy: 0.8975\n",
      "Epoch 45/100\n",
      "32/32 [==============================] - 2s 71ms/step - loss: 0.2735 - accuracy: 0.9006\n",
      "Epoch 46/100\n",
      "32/32 [==============================] - 2s 72ms/step - loss: 0.2689 - accuracy: 0.9018\n",
      "Epoch 47/100\n",
      "32/32 [==============================] - 2s 71ms/step - loss: 0.2693 - accuracy: 0.9026\n",
      "Epoch 48/100\n",
      "32/32 [==============================] - 2s 70ms/step - loss: 0.2649 - accuracy: 0.9038\n",
      "Epoch 49/100\n",
      "32/32 [==============================] - 2s 69ms/step - loss: 0.2630 - accuracy: 0.9040\n",
      "Epoch 50/100\n",
      "32/32 [==============================] - 2s 70ms/step - loss: 0.2599 - accuracy: 0.9055\n",
      "Epoch 51/100\n",
      "32/32 [==============================] - 2s 70ms/step - loss: 0.2614 - accuracy: 0.9055\n",
      "Epoch 52/100\n",
      "32/32 [==============================] - 2s 69ms/step - loss: 0.2588 - accuracy: 0.9062\n",
      "Epoch 53/100\n",
      "32/32 [==============================] - 2s 69ms/step - loss: 0.2606 - accuracy: 0.9051\n",
      "Epoch 54/100\n",
      "32/32 [==============================] - 2s 70ms/step - loss: 0.2553 - accuracy: 0.9075\n",
      "Epoch 55/100\n",
      "32/32 [==============================] - 2s 70ms/step - loss: 0.2488 - accuracy: 0.9097\n",
      "Epoch 56/100\n",
      "32/32 [==============================] - 2s 71ms/step - loss: 0.2507 - accuracy: 0.9093\n",
      "Epoch 57/100\n",
      "32/32 [==============================] - 2s 68ms/step - loss: 0.2487 - accuracy: 0.9096\n",
      "Epoch 58/100\n",
      "32/32 [==============================] - 2s 68ms/step - loss: 0.2439 - accuracy: 0.9114\n",
      "Epoch 59/100\n",
      "32/32 [==============================] - 2s 68ms/step - loss: 0.2494 - accuracy: 0.9085\n",
      "Epoch 60/100\n",
      "32/32 [==============================] - 2s 68ms/step - loss: 0.2515 - accuracy: 0.9081\n",
      "Epoch 61/100\n",
      "32/32 [==============================] - 2s 68ms/step - loss: 0.2418 - accuracy: 0.9122\n",
      "Epoch 62/100\n",
      "32/32 [==============================] - 2s 69ms/step - loss: 0.2407 - accuracy: 0.9123\n",
      "Epoch 63/100\n",
      "32/32 [==============================] - 2s 68ms/step - loss: 0.2351 - accuracy: 0.9145\n",
      "Epoch 64/100\n",
      "32/32 [==============================] - 2s 68ms/step - loss: 0.2337 - accuracy: 0.9150\n",
      "Epoch 65/100\n",
      "32/32 [==============================] - 2s 68ms/step - loss: 0.2312 - accuracy: 0.9162\n",
      "Epoch 66/100\n",
      "32/32 [==============================] - 2s 68ms/step - loss: 0.2320 - accuracy: 0.9149\n",
      "Epoch 67/100\n",
      "32/32 [==============================] - 2s 69ms/step - loss: 0.2320 - accuracy: 0.9154\n",
      "Epoch 68/100\n",
      "32/32 [==============================] - 2s 69ms/step - loss: 0.2248 - accuracy: 0.9189\n",
      "Epoch 69/100\n",
      "32/32 [==============================] - 2s 68ms/step - loss: 0.2360 - accuracy: 0.9126\n",
      "Epoch 70/100\n",
      "32/32 [==============================] - 2s 68ms/step - loss: 0.2284 - accuracy: 0.9171\n",
      "Epoch 71/100\n",
      "32/32 [==============================] - 2s 68ms/step - loss: 0.2278 - accuracy: 0.9176\n",
      "Epoch 72/100\n",
      "32/32 [==============================] - 2s 70ms/step - loss: 0.2258 - accuracy: 0.9175\n",
      "Epoch 73/100\n",
      "32/32 [==============================] - 2s 70ms/step - loss: 0.2193 - accuracy: 0.9208\n",
      "Epoch 74/100\n",
      "32/32 [==============================] - 2s 70ms/step - loss: 0.2189 - accuracy: 0.9195\n",
      "Epoch 75/100\n",
      "32/32 [==============================] - 2s 70ms/step - loss: 0.2162 - accuracy: 0.9217\n",
      "Epoch 76/100\n",
      "32/32 [==============================] - 2s 72ms/step - loss: 0.2182 - accuracy: 0.9200\n",
      "Epoch 77/100\n",
      "32/32 [==============================] - 2s 70ms/step - loss: 0.2186 - accuracy: 0.9207\n",
      "Epoch 78/100\n",
      "32/32 [==============================] - 2s 70ms/step - loss: 0.2090 - accuracy: 0.9243\n",
      "Epoch 79/100\n",
      "32/32 [==============================] - 2s 70ms/step - loss: 0.2153 - accuracy: 0.9212\n",
      "Epoch 80/100\n",
      "32/32 [==============================] - 2s 69ms/step - loss: 0.2111 - accuracy: 0.9231\n",
      "Epoch 81/100\n",
      "32/32 [==============================] - 2s 71ms/step - loss: 0.2118 - accuracy: 0.9227\n",
      "Epoch 82/100\n"
     ]
    },
    {
     "name": "stdout",
     "output_type": "stream",
     "text": [
      "32/32 [==============================] - 2s 70ms/step - loss: 0.2217 - accuracy: 0.9187\n",
      "Epoch 83/100\n",
      "32/32 [==============================] - 2s 69ms/step - loss: 0.2026 - accuracy: 0.9268\n",
      "Epoch 84/100\n",
      "32/32 [==============================] - 2s 69ms/step - loss: 0.1962 - accuracy: 0.9289\n",
      "Epoch 85/100\n",
      "32/32 [==============================] - 2s 69ms/step - loss: 0.1975 - accuracy: 0.9286\n",
      "Epoch 86/100\n",
      "32/32 [==============================] - 2s 69ms/step - loss: 0.1970 - accuracy: 0.9292\n",
      "Epoch 87/100\n",
      "32/32 [==============================] - 2s 69ms/step - loss: 0.2024 - accuracy: 0.9261\n",
      "Epoch 88/100\n",
      "32/32 [==============================] - 2s 69ms/step - loss: 0.1977 - accuracy: 0.9278\n",
      "Epoch 89/100\n",
      "32/32 [==============================] - 2s 69ms/step - loss: 0.1940 - accuracy: 0.9294\n",
      "Epoch 90/100\n",
      "32/32 [==============================] - 2s 70ms/step - loss: 0.1972 - accuracy: 0.9285\n",
      "Epoch 91/100\n",
      "32/32 [==============================] - 2s 70ms/step - loss: 0.1905 - accuracy: 0.9309\n",
      "Epoch 92/100\n",
      "32/32 [==============================] - 2s 70ms/step - loss: 0.1854 - accuracy: 0.9320\n",
      "Epoch 93/100\n",
      "32/32 [==============================] - 2s 70ms/step - loss: 0.1946 - accuracy: 0.9293\n",
      "Epoch 94/100\n",
      "32/32 [==============================] - 2s 70ms/step - loss: 0.1932 - accuracy: 0.9293\n",
      "Epoch 95/100\n",
      "32/32 [==============================] - 2s 69ms/step - loss: 0.1901 - accuracy: 0.9299\n",
      "Epoch 96/100\n",
      "32/32 [==============================] - 2s 69ms/step - loss: 0.1846 - accuracy: 0.9330\n",
      "Epoch 97/100\n",
      "32/32 [==============================] - 2s 69ms/step - loss: 0.1888 - accuracy: 0.9304\n",
      "Epoch 98/100\n",
      "32/32 [==============================] - 2s 69ms/step - loss: 0.1830 - accuracy: 0.9338\n",
      "Epoch 99/100\n",
      "32/32 [==============================] - 2s 69ms/step - loss: 0.1771 - accuracy: 0.9357\n",
      "Epoch 100/100\n",
      "32/32 [==============================] - 2s 69ms/step - loss: 0.1762 - accuracy: 0.9366\n"
     ]
    }
   ],
   "source": [
    "history = model.fit(x_train, y_train_one_hot, epochs=100, verbose=1, steps_per_epoch=32)"
   ]
  },
  {
   "cell_type": "code",
   "execution_count": 16,
   "id": "06e460af",
   "metadata": {},
   "outputs": [
    {
     "name": "stdout",
     "output_type": "stream",
     "text": [
      "dict_keys(['loss', 'accuracy'])\n"
     ]
    },
    {
     "data": {
      "image/png": "[encoded data removed]",
      "text/plain": [
       "<Figure size 432x288 with 1 Axes>"
      ]
     },
     "metadata": {
      "needs_background": "light"
     },
     "output_type": "display_data"
    },
    {
     "data": {
      "image/png": "[encoded data removed]",
      "text/plain": [
       "<Figure size 432x288 with 1 Axes>"
      ]
     },
     "metadata": {
      "needs_background": "light"
     },
     "output_type": "display_data"
    }
   ],
   "source": [
    "# plotting model history(accuracy and loss)\n",
    "print(history.history.keys())\n",
    "# summarize history for accuracy\n",
    "plt.plot(history.history['accuracy'])\n",
    "plt.title('model accuracy')\n",
    "plt.ylabel('accuracy')\n",
    "plt.xlabel('epoch')\n",
    "plt.legend(['train', 'test'], loc='upper left')\n",
    "plt.show()\n",
    "# summarize history for loss\n",
    "plt.plot(history.history['loss'])\n",
    "\n",
    "plt.title('model loss')\n",
    "plt.ylabel('loss')\n",
    "plt.xlabel('epoch')\n",
    "plt.legend(['train', 'test'], loc='upper left')\n",
    "plt.show()\n",
    "\n"
   ]
  },
  {
   "cell_type": "code",
   "execution_count": 17,
   "id": "0cb5be15",
   "metadata": {},
   "outputs": [
    {
     "name": "stdout",
     "output_type": "stream",
     "text": [
      "79/79 [==============================] - 1s 6ms/step - loss: 62.7723 - accuracy: 0.8613\n",
      "test loss, test acc: [62.77232360839844, 0.861299991607666]\n"
     ]
    }
   ],
   "source": [
    "results = model.evaluate(x_test, y_test_one_hot, batch_size=128)\n",
    "print(\"test loss, test acc:\", results)"
   ]
  },
  {
   "cell_type": "code",
   "execution_count": 18,
   "id": "d36baa55",
   "metadata": {},
   "outputs": [],
   "source": [
    "# testing image with random\n",
    "def test_image(model, x, y):\n",
    "    plt.figure(figsize = (1,1)) # sizing figure to be small\n",
    "    random_index = np.random.randint(0, 10001) # random number from 0 to 10000\n",
    "    test_image = model.predict(x)[random_index]\n",
    "    label_index = tf.argmax(test_image, axis=0) #decoding to find index\n",
    "    print(label_index)\n",
    "    plt.imshow(x[random_index])\n",
    "    plt.xlabel(classes[label_index])"
   ]
  },
  {
   "cell_type": "code",
   "execution_count": 40,
   "id": "08855b3b",
   "metadata": {},
   "outputs": [
    {
     "name": "stdout",
     "output_type": "stream",
     "text": [
      "tf.Tensor(9, shape=(), dtype=int64)\n"
     ]
    },
    {
     "data": {
      "image/png": "[encoded data removed]",
      "text/plain": [
       "<Figure size 72x72 with 1 Axes>"
      ]
     },
     "metadata": {
      "needs_background": "light"
     },
     "output_type": "display_data"
    }
   ],
   "source": [
    "test_image(model, x_test, y_test_one_hot)\n"
   ]
  },
  {
   "cell_type": "code",
   "execution_count": 20,
   "id": "4cccd311",
   "metadata": {},
   "outputs": [],
   "source": [
    "noisy_model = build_model()"
   ]
  },
  {
   "cell_type": "code",
   "execution_count": 21,
   "id": "72647f44",
   "metadata": {},
   "outputs": [
    {
     "name": "stdout",
     "output_type": "stream",
     "text": [
      "Epoch 1/100\n",
      "32/32 [==============================] - 2s 71ms/step - loss: 3.3231 - accuracy: 0.1797\n",
      "Epoch 2/100\n",
      "32/32 [==============================] - 2s 69ms/step - loss: 1.6150 - accuracy: 0.3934\n",
      "Epoch 3/100\n",
      "32/32 [==============================] - 2s 69ms/step - loss: 1.2610 - accuracy: 0.5084\n",
      "Epoch 4/100\n",
      "32/32 [==============================] - 2s 69ms/step - loss: 1.0998 - accuracy: 0.5719\n",
      "Epoch 5/100\n",
      "32/32 [==============================] - 2s 70ms/step - loss: 1.0391 - accuracy: 0.5972\n",
      "Epoch 6/100\n",
      "32/32 [==============================] - 2s 70ms/step - loss: 1.0081 - accuracy: 0.6125\n",
      "Epoch 7/100\n",
      "32/32 [==============================] - 2s 69ms/step - loss: 0.9568 - accuracy: 0.6346\n",
      "Epoch 8/100\n",
      "32/32 [==============================] - 2s 70ms/step - loss: 0.9330 - accuracy: 0.6427\n",
      "Epoch 9/100\n",
      "32/32 [==============================] - 2s 70ms/step - loss: 0.9040 - accuracy: 0.6543\n",
      "Epoch 10/100\n",
      "32/32 [==============================] - 2s 69ms/step - loss: 0.8726 - accuracy: 0.6673\n",
      "Epoch 11/100\n",
      "32/32 [==============================] - 2s 69ms/step - loss: 0.8512 - accuracy: 0.6773\n",
      "Epoch 12/100\n",
      "32/32 [==============================] - 2s 69ms/step - loss: 0.8492 - accuracy: 0.6778\n",
      "Epoch 13/100\n",
      "32/32 [==============================] - 2s 69ms/step - loss: 0.8287 - accuracy: 0.6853\n",
      "Epoch 14/100\n",
      "32/32 [==============================] - 2s 69ms/step - loss: 0.8266 - accuracy: 0.6837\n",
      "Epoch 15/100\n",
      "32/32 [==============================] - 2s 69ms/step - loss: 0.8038 - accuracy: 0.6938\n",
      "Epoch 16/100\n",
      "32/32 [==============================] - 2s 69ms/step - loss: 0.8011 - accuracy: 0.6938\n",
      "Epoch 17/100\n",
      "32/32 [==============================] - 2s 69ms/step - loss: 0.8085 - accuracy: 0.6876\n",
      "Epoch 18/100\n",
      "32/32 [==============================] - 2s 69ms/step - loss: 0.7988 - accuracy: 0.6927\n",
      "Epoch 19/100\n",
      "32/32 [==============================] - 2s 69ms/step - loss: 0.7804 - accuracy: 0.7015\n",
      "Epoch 20/100\n",
      "32/32 [==============================] - 2s 70ms/step - loss: 0.7729 - accuracy: 0.7044\n",
      "Epoch 21/100\n",
      "32/32 [==============================] - 2s 69ms/step - loss: 0.7666 - accuracy: 0.7052\n",
      "Epoch 22/100\n",
      "32/32 [==============================] - 2s 69ms/step - loss: 0.7762 - accuracy: 0.7021\n",
      "Epoch 23/100\n",
      "32/32 [==============================] - 2s 69ms/step - loss: 0.7682 - accuracy: 0.7030\n",
      "Epoch 24/100\n",
      "32/32 [==============================] - 2s 70ms/step - loss: 0.7580 - accuracy: 0.7086\n",
      "Epoch 25/100\n",
      "32/32 [==============================] - 2s 69ms/step - loss: 0.7521 - accuracy: 0.7110\n",
      "Epoch 26/100\n",
      "32/32 [==============================] - 2s 69ms/step - loss: 0.7487 - accuracy: 0.7116\n",
      "Epoch 27/100\n",
      "32/32 [==============================] - 2s 69ms/step - loss: 0.7420 - accuracy: 0.7139\n",
      "Epoch 28/100\n",
      "32/32 [==============================] - 2s 70ms/step - loss: 0.7402 - accuracy: 0.7150\n",
      "Epoch 29/100\n",
      "32/32 [==============================] - 2s 69ms/step - loss: 0.7326 - accuracy: 0.7173\n",
      "Epoch 30/100\n",
      "32/32 [==============================] - 2s 69ms/step - loss: 0.7281 - accuracy: 0.7193\n",
      "Epoch 31/100\n",
      "32/32 [==============================] - 2s 69ms/step - loss: 0.7286 - accuracy: 0.7177\n",
      "Epoch 32/100\n",
      "32/32 [==============================] - 2s 69ms/step - loss: 0.7305 - accuracy: 0.7171\n",
      "Epoch 33/100\n",
      "32/32 [==============================] - 2s 69ms/step - loss: 0.7287 - accuracy: 0.7172\n",
      "Epoch 34/100\n",
      "32/32 [==============================] - 2s 69ms/step - loss: 0.7241 - accuracy: 0.7195\n",
      "Epoch 35/100\n",
      "32/32 [==============================] - 2s 69ms/step - loss: 0.7142 - accuracy: 0.7232\n",
      "Epoch 36/100\n",
      "32/32 [==============================] - 2s 70ms/step - loss: 0.7082 - accuracy: 0.7274\n",
      "Epoch 37/100\n",
      "32/32 [==============================] - 2s 70ms/step - loss: 0.7115 - accuracy: 0.7242\n",
      "Epoch 38/100\n",
      "32/32 [==============================] - 2s 70ms/step - loss: 0.7055 - accuracy: 0.7280\n",
      "Epoch 39/100\n",
      "32/32 [==============================] - 2s 69ms/step - loss: 0.7071 - accuracy: 0.7262\n",
      "Epoch 40/100\n",
      "32/32 [==============================] - 2s 69ms/step - loss: 0.7044 - accuracy: 0.7286\n",
      "Epoch 41/100\n",
      "32/32 [==============================] - 2s 70ms/step - loss: 0.6997 - accuracy: 0.7302\n",
      "Epoch 42/100\n",
      "32/32 [==============================] - 2s 70ms/step - loss: 0.6967 - accuracy: 0.7303\n",
      "Epoch 43/100\n",
      "32/32 [==============================] - 2s 69ms/step - loss: 0.6971 - accuracy: 0.7311\n",
      "Epoch 44/100\n",
      "32/32 [==============================] - 2s 69ms/step - loss: 0.6936 - accuracy: 0.7315\n",
      "Epoch 45/100\n",
      "32/32 [==============================] - 2s 69ms/step - loss: 0.7026 - accuracy: 0.7287\n",
      "Epoch 46/100\n",
      "32/32 [==============================] - 2s 69ms/step - loss: 0.6926 - accuracy: 0.7323\n",
      "Epoch 47/100\n",
      "32/32 [==============================] - 2s 69ms/step - loss: 0.6874 - accuracy: 0.7346\n",
      "Epoch 48/100\n",
      "32/32 [==============================] - 2s 69ms/step - loss: 0.6846 - accuracy: 0.7347\n",
      "Epoch 49/100\n",
      "32/32 [==============================] - 2s 69ms/step - loss: 0.6863 - accuracy: 0.7363\n",
      "Epoch 50/100\n",
      "32/32 [==============================] - 2s 69ms/step - loss: 0.6769 - accuracy: 0.7391\n",
      "Epoch 51/100\n",
      "32/32 [==============================] - 2s 69ms/step - loss: 0.6762 - accuracy: 0.7394\n",
      "Epoch 52/100\n",
      "32/32 [==============================] - 2s 69ms/step - loss: 0.6763 - accuracy: 0.7401\n",
      "Epoch 53/100\n",
      "32/32 [==============================] - 2s 69ms/step - loss: 0.6706 - accuracy: 0.7416\n",
      "Epoch 54/100\n",
      "32/32 [==============================] - 2s 69ms/step - loss: 0.6726 - accuracy: 0.7408\n",
      "Epoch 55/100\n",
      "32/32 [==============================] - 2s 69ms/step - loss: 0.6713 - accuracy: 0.7421\n",
      "Epoch 56/100\n",
      "32/32 [==============================] - 2s 69ms/step - loss: 0.6670 - accuracy: 0.7429\n",
      "Epoch 57/100\n",
      "32/32 [==============================] - 2s 69ms/step - loss: 0.6704 - accuracy: 0.7410\n",
      "Epoch 58/100\n",
      "32/32 [==============================] - 2s 70ms/step - loss: 0.6677 - accuracy: 0.7428\n",
      "Epoch 59/100\n",
      "32/32 [==============================] - 2s 70ms/step - loss: 0.6623 - accuracy: 0.7441\n",
      "Epoch 60/100\n",
      "32/32 [==============================] - 2s 69ms/step - loss: 0.6626 - accuracy: 0.7451\n",
      "Epoch 61/100\n",
      "32/32 [==============================] - 2s 69ms/step - loss: 0.6635 - accuracy: 0.7441\n",
      "Epoch 62/100\n",
      "32/32 [==============================] - 2s 69ms/step - loss: 0.6584 - accuracy: 0.7463\n",
      "Epoch 63/100\n",
      "32/32 [==============================] - 2s 69ms/step - loss: 0.6533 - accuracy: 0.7476\n",
      "Epoch 64/100\n",
      "32/32 [==============================] - 2s 70ms/step - loss: 0.6574 - accuracy: 0.7462\n",
      "Epoch 65/100\n",
      "32/32 [==============================] - 2s 69ms/step - loss: 0.6654 - accuracy: 0.7409\n",
      "Epoch 66/100\n",
      "32/32 [==============================] - 2s 69ms/step - loss: 0.6559 - accuracy: 0.7478\n",
      "Epoch 67/100\n",
      "32/32 [==============================] - 2s 69ms/step - loss: 0.6498 - accuracy: 0.7494\n",
      "Epoch 68/100\n",
      "32/32 [==============================] - 2s 69ms/step - loss: 0.6519 - accuracy: 0.7495\n",
      "Epoch 69/100\n",
      "32/32 [==============================] - 2s 69ms/step - loss: 0.6518 - accuracy: 0.7486\n",
      "Epoch 70/100\n",
      "32/32 [==============================] - 2s 69ms/step - loss: 0.6485 - accuracy: 0.7497\n",
      "Epoch 71/100\n",
      "32/32 [==============================] - 2s 69ms/step - loss: 0.6490 - accuracy: 0.7500\n",
      "Epoch 72/100\n",
      "32/32 [==============================] - 2s 70ms/step - loss: 0.6526 - accuracy: 0.7486\n",
      "Epoch 73/100\n",
      "32/32 [==============================] - 2s 71ms/step - loss: 0.6512 - accuracy: 0.7463\n",
      "Epoch 74/100\n",
      "32/32 [==============================] - 2s 69ms/step - loss: 0.6460 - accuracy: 0.7507\n",
      "Epoch 75/100\n",
      "32/32 [==============================] - 2s 69ms/step - loss: 0.6434 - accuracy: 0.7515\n",
      "Epoch 76/100\n",
      "32/32 [==============================] - 2s 69ms/step - loss: 0.6433 - accuracy: 0.7515\n",
      "Epoch 77/100\n",
      "32/32 [==============================] - 2s 69ms/step - loss: 0.6371 - accuracy: 0.7541\n",
      "Epoch 78/100\n",
      "32/32 [==============================] - 2s 69ms/step - loss: 0.6365 - accuracy: 0.7543\n",
      "Epoch 79/100\n",
      "32/32 [==============================] - 2s 69ms/step - loss: 0.6378 - accuracy: 0.7539\n",
      "Epoch 80/100\n",
      "32/32 [==============================] - 2s 70ms/step - loss: 0.6398 - accuracy: 0.7533\n",
      "Epoch 81/100\n",
      "32/32 [==============================] - 2s 69ms/step - loss: 0.6308 - accuracy: 0.7561\n",
      "Epoch 82/100\n"
     ]
    },
    {
     "name": "stdout",
     "output_type": "stream",
     "text": [
      "32/32 [==============================] - 2s 69ms/step - loss: 0.6324 - accuracy: 0.7562\n",
      "Epoch 83/100\n",
      "32/32 [==============================] - 2s 69ms/step - loss: 0.6394 - accuracy: 0.7555\n",
      "Epoch 84/100\n",
      "32/32 [==============================] - 2s 70ms/step - loss: 0.6345 - accuracy: 0.7557\n",
      "Epoch 85/100\n",
      "32/32 [==============================] - 2s 69ms/step - loss: 0.6263 - accuracy: 0.7597\n",
      "Epoch 86/100\n",
      "32/32 [==============================] - 2s 70ms/step - loss: 0.6304 - accuracy: 0.7556\n",
      "Epoch 87/100\n",
      "32/32 [==============================] - 2s 69ms/step - loss: 0.6299 - accuracy: 0.7568\n",
      "Epoch 88/100\n",
      "32/32 [==============================] - 2s 70ms/step - loss: 0.6266 - accuracy: 0.7598\n",
      "Epoch 89/100\n",
      "32/32 [==============================] - 2s 70ms/step - loss: 0.6230 - accuracy: 0.7598\n",
      "Epoch 90/100\n",
      "32/32 [==============================] - 2s 69ms/step - loss: 0.6236 - accuracy: 0.7599\n",
      "Epoch 91/100\n",
      "32/32 [==============================] - 2s 68ms/step - loss: 0.6233 - accuracy: 0.7592\n",
      "Epoch 92/100\n",
      "32/32 [==============================] - 2s 69ms/step - loss: 0.6243 - accuracy: 0.7593\n",
      "Epoch 93/100\n",
      "32/32 [==============================] - 2s 75ms/step - loss: 0.6251 - accuracy: 0.7578\n",
      "Epoch 94/100\n",
      "32/32 [==============================] - 2s 70ms/step - loss: 0.6243 - accuracy: 0.7584\n",
      "Epoch 95/100\n",
      "32/32 [==============================] - 2s 69ms/step - loss: 0.6226 - accuracy: 0.7593\n",
      "Epoch 96/100\n",
      "32/32 [==============================] - 2s 69ms/step - loss: 0.6228 - accuracy: 0.7599\n",
      "Epoch 97/100\n",
      "32/32 [==============================] - 2s 69ms/step - loss: 0.6228 - accuracy: 0.7603\n",
      "Epoch 98/100\n",
      "32/32 [==============================] - 2s 68ms/step - loss: 0.6174 - accuracy: 0.7620\n",
      "Epoch 99/100\n",
      "32/32 [==============================] - 2s 69ms/step - loss: 0.6138 - accuracy: 0.7641\n",
      "Epoch 100/100\n",
      "32/32 [==============================] - 2s 69ms/step - loss: 0.6152 - accuracy: 0.7644\n"
     ]
    }
   ],
   "source": [
    "noisy_model.compile(loss='categorical_crossentropy', optimizer=tf.keras.optimizers.SGD(learning_rate=0.01, momentum=0.9), \n",
    "              metrics='accuracy')\n",
    "noisy_model_history = model.fit(x_train_noisy, y_train_one_hot, epochs=100, verbose=1, steps_per_epoch=32)"
   ]
  },
  {
   "cell_type": "code",
   "execution_count": 22,
   "id": "22de6522",
   "metadata": {},
   "outputs": [
    {
     "data": {
      "image/png": "[encoded data removed]",
      "text/plain": [
       "<Figure size 432x288 with 1 Axes>"
      ]
     },
     "metadata": {
      "needs_background": "light"
     },
     "output_type": "display_data"
    },
    {
     "data": {
      "image/png": "[encoded data removed]",
      "text/plain": [
       "<Figure size 432x288 with 1 Axes>"
      ]
     },
     "metadata": {
      "needs_background": "light"
     },
     "output_type": "display_data"
    }
   ],
   "source": [
    "# plotting noisy model history(accuracy and loss)\n",
    "# summarize noisy model history for accuracy\n",
    "plt.plot(noisy_model_history.history['accuracy'])\n",
    "plt.title('Noisy model accuracy')\n",
    "plt.ylabel('accuracy')\n",
    "plt.xlabel('epoch')\n",
    "plt.legend(['train', 'test'], loc='upper left')\n",
    "plt.show()\n",
    "\n",
    "# summarize nosiy model history for loss\n",
    "plt.plot(noisy_model_history.history['loss'])\n",
    "plt.title('Noisy model loss')\n",
    "plt.ylabel('loss')\n",
    "plt.xlabel('epoch')\n",
    "plt.legend(['train', 'test'], loc='upper left')\n",
    "plt.show()\n",
    "\n"
   ]
  },
  {
   "cell_type": "code",
   "execution_count": 38,
   "id": "477adb62",
   "metadata": {},
   "outputs": [
    {
     "name": "stdout",
     "output_type": "stream",
     "text": [
      "79/79 [==============================] - 1s 7ms/step - loss: 2.3023 - accuracy: 0.1111\n",
      "noisy model test loss, test acc: [2.302342653274536, 0.11110000312328339]\n"
     ]
    }
   ],
   "source": [
    "noisy_model_results = noisy_model.evaluate(x_test_noisy, y_test_one_hot, batch_size=128)\n",
    "print(\"noisy model test loss, test acc:\", noisy_model_results)"
   ]
  },
  {
   "cell_type": "code",
   "execution_count": 36,
   "id": "c6e0e3e2",
   "metadata": {},
   "outputs": [
    {
     "data": {
      "text/plain": [
       "[Text(0.5, 0, 'epoch'), Text(0, 0.5, 'loss')]"
      ]
     },
     "execution_count": 36,
     "metadata": {},
     "output_type": "execute_result"
    },
    {
     "data": {
      "image/png": "[encoded data removed]",
      "text/plain": [
       "<Figure size 720x720 with 4 Axes>"
      ]
     },
     "metadata": {
      "needs_background": "light"
     },
     "output_type": "display_data"
    }
   ],
   "source": [
    "## compairing plots between two models\n",
    "\n",
    "fig, axs = plt.subplots(2, 2)\n",
    "fig.set_figheight(10)\n",
    "fig.set_figwidth(10)\n",
    "axs[0, 0].plot(history.history['accuracy'], 'tab:orange')\n",
    "axs[0, 0].set_title('Accuracy of normal model')\n",
    "axs[0, 0].set(xlabel='epoch', ylabel=\"accuracy\")\n",
    "\n",
    "axs[0, 1].plot(noisy_model_history.history['accuracy'], 'tab:orange')\n",
    "axs[0, 1].set_title('Accuracy of nosiy model')\n",
    "axs[0, 1].set(xlabel='epoch', ylabel=\"accuracy\")\n",
    "\n",
    "axs[1, 0].plot(history.history['loss'], 'tab:green')\n",
    "axs[1, 0].set_title('Loss of normal model')\n",
    "axs[1, 0].set(xlabel='epoch', ylabel=\"loss\")\n",
    "\n",
    "axs[1, 1].plot(noisy_model_history.history['loss'], 'tab:green')\n",
    "axs[1, 1].set_title('Loss of noisy model')\n",
    "axs[1, 1].set(xlabel='epoch', ylabel=\"loss\")\n"
   ]
  },
  {
   "cell_type": "code",
   "execution_count": 42,
   "id": "883989f9",
   "metadata": {},
   "outputs": [
    {
     "name": "stdout",
     "output_type": "stream",
     "text": [
      "tf.Tensor(8, shape=(), dtype=int64)\n"
     ]
    },
    {
     "data": {
      "image/png": "[encoded data removed]",
      "text/plain": [
       "<Figure size 72x72 with 1 Axes>"
      ]
     },
     "metadata": {
      "needs_background": "light"
     },
     "output_type": "display_data"
    }
   ],
   "source": [
    "test_image(noisy_model, x_test_noisy, y_test_one_hot)"
   ]
  },
  {
   "cell_type": "code",
   "execution_count": null,
   "id": "2a5ad030",
   "metadata": {},
   "outputs": [],
   "source": []
  }
 ],
 "metadata": {
  "kernelspec": {
   "display_name": "Python 3 (ipykernel)",
   "language": "python",
   "name": "python3"
  },
  "language_info": {
   "codemirror_mode": {
    "name": "ipython",
    "version": 3
   },
   "file_extension": ".py",
   "mimetype": "text/x-python",
   "name": "python",
   "nbconvert_exporter": "python",
   "pygments_lexer": "ipython3",
   "version": "3.9.10"
  }
 },
 "nbformat": 4,
 "nbformat_minor": 5
}
